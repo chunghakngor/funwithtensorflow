{
 "cells": [
  {
   "cell_type": "code",
   "execution_count": 123,
   "id": "herbal-generation",
   "metadata": {},
   "outputs": [
    {
     "name": "stdout",
     "output_type": "stream",
     "text": [
      "Tensorflow: v2.4.1\n"
     ]
    }
   ],
   "source": [
    "import tensorflow as tf\n",
    "print(\"Tensorflow: v\" + tf.__version__)"
   ]
  },
  {
   "cell_type": "markdown",
   "id": "manufactured-platinum",
   "metadata": {},
   "source": [
    "## Fundamental Core Algothms\n",
    "- Linear Regression\n",
    "- Classification\n",
    "- Clustering\n",
    "- Hidden Markov Models\n",
    "\n",
    "### Linear Regression\n",
    "- Used to predict numeric values \n",
    "- eg. predict y values from the x values\n",
    "- Use line of best fit to predict future values\n",
    "- However, this works in more than 2 dimension. If you have 3 dimension graph, you can use 2 dimension to get the last one"
   ]
  },
  {
   "cell_type": "code",
   "execution_count": 124,
   "id": "opponent-radical",
   "metadata": {},
   "outputs": [],
   "source": [
    "from __future__ import absolute_import, division, print_function, unicode_literals\n",
    "\n",
    "import numpy as np\n",
    "import pandas as pd\n",
    "import matplotlib.pyplot as plt\n",
    "from IPython.display import clear_output\n",
    "from six.moves import urllib\n",
    "\n",
    "import tensorflow.compat.v2.feature_column as fc"
   ]
  },
  {
   "cell_type": "code",
   "execution_count": 125,
   "id": "acquired-cooking",
   "metadata": {},
   "outputs": [],
   "source": [
    "# using titanic dataset from tensorflow\n",
    "# load into a panda dataframe to view the data\n",
    "dftrain = pd.read_csv(\"https://storage.googleapis.com/tf-datasets/titanic/train.csv\") # to train\n",
    "dfeval = pd.read_csv(\"https://storage.googleapis.com/tf-datasets/titanic/eval.csv\") # to test\n",
    "# print(dftrain.head())\n",
    "\n",
    "y_train = dftrain.pop(\"survived\")\n",
    "y_eval = dfeval.pop(\"survived\")\n",
    "\n",
    "# print at specific index\n",
    "# print(dftrain.loc[0], y_train.loc[0])"
   ]
  },
  {
   "cell_type": "markdown",
   "id": "falling-engine",
   "metadata": {},
   "source": [
    "`.describe()` to describe the dataset and provide some statistical analysis"
   ]
  },
  {
   "cell_type": "code",
   "execution_count": 126,
   "id": "composed-surface",
   "metadata": {
    "scrolled": true
   },
   "outputs": [
    {
     "data": {
      "text/html": [
       "<div>\n",
       "<style scoped>\n",
       "    .dataframe tbody tr th:only-of-type {\n",
       "        vertical-align: middle;\n",
       "    }\n",
       "\n",
       "    .dataframe tbody tr th {\n",
       "        vertical-align: top;\n",
       "    }\n",
       "\n",
       "    .dataframe thead th {\n",
       "        text-align: right;\n",
       "    }\n",
       "</style>\n",
       "<table border=\"1\" class=\"dataframe\">\n",
       "  <thead>\n",
       "    <tr style=\"text-align: right;\">\n",
       "      <th></th>\n",
       "      <th>age</th>\n",
       "      <th>n_siblings_spouses</th>\n",
       "      <th>parch</th>\n",
       "      <th>fare</th>\n",
       "    </tr>\n",
       "  </thead>\n",
       "  <tbody>\n",
       "    <tr>\n",
       "      <th>count</th>\n",
       "      <td>627.000000</td>\n",
       "      <td>627.000000</td>\n",
       "      <td>627.000000</td>\n",
       "      <td>627.000000</td>\n",
       "    </tr>\n",
       "    <tr>\n",
       "      <th>mean</th>\n",
       "      <td>29.631308</td>\n",
       "      <td>0.545455</td>\n",
       "      <td>0.379585</td>\n",
       "      <td>34.385399</td>\n",
       "    </tr>\n",
       "    <tr>\n",
       "      <th>std</th>\n",
       "      <td>12.511818</td>\n",
       "      <td>1.151090</td>\n",
       "      <td>0.792999</td>\n",
       "      <td>54.597730</td>\n",
       "    </tr>\n",
       "    <tr>\n",
       "      <th>min</th>\n",
       "      <td>0.750000</td>\n",
       "      <td>0.000000</td>\n",
       "      <td>0.000000</td>\n",
       "      <td>0.000000</td>\n",
       "    </tr>\n",
       "    <tr>\n",
       "      <th>25%</th>\n",
       "      <td>23.000000</td>\n",
       "      <td>0.000000</td>\n",
       "      <td>0.000000</td>\n",
       "      <td>7.895800</td>\n",
       "    </tr>\n",
       "    <tr>\n",
       "      <th>50%</th>\n",
       "      <td>28.000000</td>\n",
       "      <td>0.000000</td>\n",
       "      <td>0.000000</td>\n",
       "      <td>15.045800</td>\n",
       "    </tr>\n",
       "    <tr>\n",
       "      <th>75%</th>\n",
       "      <td>35.000000</td>\n",
       "      <td>1.000000</td>\n",
       "      <td>0.000000</td>\n",
       "      <td>31.387500</td>\n",
       "    </tr>\n",
       "    <tr>\n",
       "      <th>max</th>\n",
       "      <td>80.000000</td>\n",
       "      <td>8.000000</td>\n",
       "      <td>5.000000</td>\n",
       "      <td>512.329200</td>\n",
       "    </tr>\n",
       "  </tbody>\n",
       "</table>\n",
       "</div>"
      ],
      "text/plain": [
       "              age  n_siblings_spouses       parch        fare\n",
       "count  627.000000          627.000000  627.000000  627.000000\n",
       "mean    29.631308            0.545455    0.379585   34.385399\n",
       "std     12.511818            1.151090    0.792999   54.597730\n",
       "min      0.750000            0.000000    0.000000    0.000000\n",
       "25%     23.000000            0.000000    0.000000    7.895800\n",
       "50%     28.000000            0.000000    0.000000   15.045800\n",
       "75%     35.000000            1.000000    0.000000   31.387500\n",
       "max     80.000000            8.000000    5.000000  512.329200"
      ]
     },
     "execution_count": 126,
     "metadata": {},
     "output_type": "execute_result"
    }
   ],
   "source": [
    "dftrain.describe()"
   ]
  },
  {
   "cell_type": "code",
   "execution_count": 127,
   "id": "extensive-strength",
   "metadata": {},
   "outputs": [
    {
     "data": {
      "text/plain": [
       "(627, 9)"
      ]
     },
     "execution_count": 127,
     "metadata": {},
     "output_type": "execute_result"
    }
   ],
   "source": [
    "#shape of the training dataset\n",
    "dftrain.shape\n",
    "# dfeval.shape"
   ]
  },
  {
   "cell_type": "markdown",
   "id": "crazy-philip",
   "metadata": {},
   "source": [
    "## Some graphs from the training data"
   ]
  },
  {
   "cell_type": "code",
   "execution_count": 128,
   "id": "fiscal-heritage",
   "metadata": {},
   "outputs": [
    {
     "data": {
      "text/plain": [
       "<AxesSubplot:>"
      ]
     },
     "execution_count": 128,
     "metadata": {},
     "output_type": "execute_result"
    },
    {
     "data": {
      "image/png": "[encoded data removed]",
      "text/plain": [
       "<Figure size 432x288 with 1 Axes>"
      ]
     },
     "metadata": {
      "needs_background": "light"
     },
     "output_type": "display_data"
    }
   ],
   "source": [
    "dftrain.age.hist(bins=20)"
   ]
  },
  {
   "cell_type": "code",
   "execution_count": 129,
   "id": "destroyed-hardware",
   "metadata": {},
   "outputs": [
    {
     "data": {
      "text/plain": [
       "<AxesSubplot:>"
      ]
     },
     "execution_count": 129,
     "metadata": {},
     "output_type": "execute_result"
    },
    {
     "data": {
      "image/png": "[encoded data removed]",
      "text/plain": [
       "<Figure size 432x288 with 1 Axes>"
      ]
     },
     "metadata": {
      "needs_background": "light"
     },
     "output_type": "display_data"
    }
   ],
   "source": [
    "dftrain.sex.value_counts().plot(kind=\"barh\")"
   ]
  },
  {
   "cell_type": "code",
   "execution_count": 130,
   "id": "grand-vehicle",
   "metadata": {},
   "outputs": [
    {
     "data": {
      "text/plain": [
       "<AxesSubplot:>"
      ]
     },
     "execution_count": 130,
     "metadata": {},
     "output_type": "execute_result"
    },
    {
     "data": {
      "image/png": "[encoded data removed]",
      "text/plain": [
       "<Figure size 432x288 with 1 Axes>"
      ]
     },
     "metadata": {
      "needs_background": "light"
     },
     "output_type": "display_data"
    }
   ],
   "source": [
    "dftrain[\"class\"].value_counts().plot(kind=\"barh\")"
   ]
  },
  {
   "cell_type": "code",
   "execution_count": 131,
   "id": "broke-significance",
   "metadata": {},
   "outputs": [
    {
     "data": {
      "text/plain": [
       "Text(0.5, 0, '% survive')"
      ]
     },
     "execution_count": 131,
     "metadata": {},
     "output_type": "execute_result"
    },
    {
     "data": {
      "image/png": "[encoded data removed]",
      "text/plain": [
       "<Figure size 432x288 with 1 Axes>"
      ]
     },
     "metadata": {
      "needs_background": "light"
     },
     "output_type": "display_data"
    }
   ],
   "source": [
    "pd.concat([dftrain, y_train], axis=1).groupby(\"sex\").survived.mean().plot(kind=\"barh\").set_xlabel(\"% survive\")"
   ]
  },
  {
   "cell_type": "markdown",
   "id": "enhanced-smell",
   "metadata": {},
   "source": [
    "### Categoric Data vs Numerical Data\n",
    "- Categoric data should have a certain category that they fall under \n",
    "- eg. gender = male or female or deck = first, second or third\n",
    "- For categoric data, we need to map it to different numeric values eg. male = 0 and female = 1\n",
    "\n",
    "\n",
    "- Numerical data eg. age or fare"
   ]
  },
  {
   "cell_type": "code",
   "execution_count": 132,
   "id": "failing-output",
   "metadata": {},
   "outputs": [
    {
     "name": "stdout",
     "output_type": "stream",
     "text": [
      "[VocabularyListCategoricalColumn(key='sex', vocabulary_list=('male', 'female'), dtype=tf.string, default_value=-1, num_oov_buckets=0), VocabularyListCategoricalColumn(key='n_siblings_spouses', vocabulary_list=(1, 0, 3, 4, 2, 5, 8), dtype=tf.int64, default_value=-1, num_oov_buckets=0), VocabularyListCategoricalColumn(key='parch', vocabulary_list=(0, 1, 2, 5, 3, 4), dtype=tf.int64, default_value=-1, num_oov_buckets=0), VocabularyListCategoricalColumn(key='class', vocabulary_list=('Third', 'First', 'Second'), dtype=tf.string, default_value=-1, num_oov_buckets=0), VocabularyListCategoricalColumn(key='deck', vocabulary_list=('unknown', 'C', 'G', 'A', 'B', 'D', 'F', 'E'), dtype=tf.string, default_value=-1, num_oov_buckets=0), VocabularyListCategoricalColumn(key='embark_town', vocabulary_list=('Southampton', 'Cherbourg', 'Queenstown', 'unknown'), dtype=tf.string, default_value=-1, num_oov_buckets=0), VocabularyListCategoricalColumn(key='alone', vocabulary_list=('n', 'y'), dtype=tf.string, default_value=-1, num_oov_buckets=0), NumericColumn(key='age', shape=(1,), default_value=None, dtype=tf.float32, normalizer_fn=None), NumericColumn(key='fare', shape=(1,), default_value=None, dtype=tf.float32, normalizer_fn=None)]\n"
     ]
    }
   ],
   "source": [
    "C_COL = [\"sex\", \"n_siblings_spouses\", \"parch\", \"class\", \"deck\", \"embark_town\", \"alone\"]\n",
    "N_COL = [\"age\", \"fare\"]\n",
    "\n",
    "fc = [] #feature column\n",
    "for fn in C_COL: #feature name in column\n",
    "    voc = dftrain[fn].unique() #vocab - a list of all unique values from fn\n",
    "    fc.append(tf.feature_column.categorical_column_with_vocabulary_list(fn, voc))\n",
    "    \n",
    "for fn in N_COL:\n",
    "    fc.append(tf.feature_column.numeric_column(fn, dtype=tf.float32))\n",
    "\n",
    "print(fc)"
   ]
  },
  {
   "cell_type": "markdown",
   "id": "valued-airline",
   "metadata": {},
   "source": [
    "### Training the Model\n",
    "- Feed the model information from the dataset\n",
    "- With large models that have big dataset, need to load in batches\n",
    "- **epoch** = how many times the model see the same data\n",
    "- which feed the data again but in a different order. but this may lead to **overfitting**\n",
    "- to prevent overfitting, start with a low epoch and increament it\n",
    "\n",
    "\n",
    "- **input function** - define how the data is broken into epoch to feed into the data\n",
    "- will encode into `tf.data.Dataset` object"
   ]
  },
  {
   "cell_type": "code",
   "execution_count": 133,
   "id": "minor-health",
   "metadata": {},
   "outputs": [],
   "source": [
    "# Input function\n",
    "\n",
    "def make_input_fn(data_df, label_df, num_epochs=10, shuffle=True, batch_size=32):\n",
    "  def input_function():\n",
    "    ds = tf.data.Dataset.from_tensor_slices((dict(data_df), label_df))\n",
    "    if shuffle:\n",
    "      ds = ds.shuffle(1000)\n",
    "    ds = ds.batch(batch_size).repeat(num_epochs)\n",
    "    return ds\n",
    "  return input_function\n",
    "\n",
    "train_input_fn = make_input_fn(dftrain, y_train)\n",
    "eval_input_fn = make_input_fn(dfeval, y_eval, num_epochs=1, shuffle=False)"
   ]
  },
  {
   "cell_type": "markdown",
   "id": "characteristic-patrol",
   "metadata": {},
   "source": [
    "### Creating the Model"
   ]
  },
  {
   "cell_type": "code",
   "execution_count": 134,
   "id": "wanted-matter",
   "metadata": {
    "scrolled": true
   },
   "outputs": [
    {
     "name": "stdout",
     "output_type": "stream",
     "text": [
      "{'accuracy': 0.7613636, 'accuracy_baseline': 0.625, 'auc': 0.83370066, 'auc_precision_recall': 0.79276276, 'average_loss': 0.4748347, 'label/mean': 0.375, 'loss': 0.46696758, 'precision': 0.6956522, 'prediction/mean': 0.36483607, 'recall': 0.64646465, 'global_step': 200}\n"
     ]
    }
   ],
   "source": [
    "linear_est = tf.estimator.LinearClassifier(feature_columns=fc) #creating estimator\n",
    "linear_est.train(train_input_fn) #training the model\n",
    "result = linear_est.evaluate(eval_input_fn) #evaluating the model\n",
    "\n",
    "clear_output() # clear output from training\n",
    "print(result)"
   ]
  },
  {
   "cell_type": "markdown",
   "id": "alternative-craps",
   "metadata": {},
   "source": [
    "### Using the Model to make Predictions"
   ]
  },
  {
   "cell_type": "code",
   "execution_count": 135,
   "id": "defensive-campaign",
   "metadata": {},
   "outputs": [
    {
     "name": "stdout",
     "output_type": "stream",
     "text": [
      "INFO:tensorflow:Calling model_fn.\n",
      "INFO:tensorflow:Done calling model_fn.\n",
      "INFO:tensorflow:Graph was finalized.\n",
      "INFO:tensorflow:Restoring parameters from /var/folders/95/jh39mtrx5298hj0gklkx1gym0000gn/T/tmphizfrfx0/model.ckpt-200\n",
      "INFO:tensorflow:Running local_init_op.\n",
      "INFO:tensorflow:Done running local_init_op.\n",
      "[0.92459154 0.07540846]\n",
      "[0.72103316 0.27896687]\n",
      "[0.3244906 0.6755094]\n",
      "[0.38728467 0.61271536]\n",
      "[0.74563164 0.25436836]\n",
      "[0.25881335 0.7411866 ]\n",
      "[0.4525214  0.54747856]\n",
      "[0.8928723  0.10712781]\n",
      "[0.41025722 0.58974284]\n",
      "[0.28058556 0.7194144 ]\n",
      "[0.3333322 0.6666678]\n",
      "[0.8929196  0.10708042]\n",
      "[0.1686232  0.83137685]\n",
      "[0.64685076 0.35314918]\n",
      "[0.17343573 0.82656425]\n",
      "[0.50625634 0.4937436 ]\n",
      "[0.8436701  0.15632987]\n",
      "[0.18308431 0.8169157 ]\n",
      "[0.63743156 0.36256844]\n",
      "[0.9122161  0.08778387]\n",
      "[0.89024407 0.10975595]\n",
      "[0.92404956 0.07595042]\n",
      "[0.35519463 0.6448054 ]\n",
      "[0.93017983 0.06982016]\n",
      "[0.34285888 0.65714103]\n",
      "[0.4558995 0.5441005]\n",
      "[0.824041   0.17595898]\n",
      "[0.77299356 0.22700645]\n",
      "[0.78686756 0.21313237]\n",
      "[0.19092198 0.8090781 ]\n",
      "[0.8714914 0.1285087]\n",
      "[0.22831513 0.7716849 ]\n",
      "[0.80807215 0.1919279 ]\n",
      "[0.36534742 0.63465255]\n",
      "[0.7590653  0.24093476]\n",
      "[0.9077409  0.09225907]\n",
      "[0.85183346 0.14816658]\n",
      "[0.8705985  0.12940158]\n",
      "[0.13852617 0.8614738 ]\n",
      "[0.91439915 0.08560091]\n",
      "[0.2948738 0.7051262]\n",
      "[0.8986017  0.10139829]\n",
      "[0.59633785 0.4036622 ]\n",
      "[0.7588103  0.24118976]\n",
      "[0.82905334 0.17094666]\n",
      "[0.22581284 0.7741872 ]\n",
      "[0.8928958  0.10710413]\n",
      "[0.72619283 0.2738072 ]\n",
      "[0.64772946 0.3522705 ]\n",
      "[0.6687422  0.33125788]\n",
      "[0.9057129  0.09428713]\n",
      "[0.7811017  0.21889834]\n",
      "[0.94119865 0.05880139]\n",
      "[0.9055261  0.09447395]\n",
      "[0.8846993  0.11530073]\n",
      "[0.9007083  0.09929173]\n",
      "[0.82855105 0.17144892]\n",
      "[0.06247615 0.93752384]\n",
      "[0.8164796  0.18352038]\n",
      "[0.91000795 0.08999202]\n",
      "[0.78324896 0.21675105]\n",
      "[0.47642562 0.52357435]\n",
      "[0.8045397  0.19546029]\n",
      "[0.20456575 0.79543424]\n",
      "[0.8253141  0.17468593]\n",
      "[0.38077942 0.61922055]\n",
      "[0.6578759  0.34212407]\n",
      "[0.89925313 0.10074687]\n",
      "[0.8903748  0.10962525]\n",
      "[0.3749145  0.62508553]\n",
      "[0.10926007 0.8907399 ]\n",
      "[0.6817685  0.31823152]\n",
      "[0.9545453  0.04545474]\n",
      "[0.8874821  0.11251789]\n",
      "[0.8713211  0.12867892]\n",
      "[0.9141739  0.08582604]\n",
      "[0.89550966 0.10449032]\n",
      "[0.8705985  0.12940158]\n",
      "[0.2976348  0.70236516]\n",
      "[0.048777   0.95122296]\n",
      "[0.3738013 0.6261987]\n",
      "[0.64685076 0.35314918]\n",
      "[0.83937615 0.16062386]\n",
      "[0.09451426 0.9054857 ]\n",
      "[0.9113504  0.08864956]\n",
      "[0.6053954  0.39460465]\n",
      "[0.38726443 0.61273557]\n",
      "[0.90336156 0.09663844]\n",
      "[0.19302191 0.80697805]\n",
      "[0.16982001 0.8301799 ]\n",
      "[0.0526026 0.9473974]\n",
      "[0.8369583  0.16304168]\n",
      "[0.90883136 0.0911686 ]\n",
      "[0.05585761 0.9441424 ]\n",
      "[0.5752697  0.42473033]\n",
      "[0.26783162 0.7321684 ]\n",
      "[0.8221655  0.17783448]\n",
      "[0.93692183 0.06307817]\n",
      "[0.8978203  0.10217966]\n",
      "[0.75774825 0.24225175]\n",
      "[0.9145231  0.08547688]\n",
      "[0.39725983 0.60274017]\n",
      "[0.5562526 0.4437474]\n",
      "[0.4186422 0.5813578]\n",
      "[0.3617174  0.63828254]\n",
      "[0.8268499 0.1731501]\n",
      "[0.2168366  0.78316337]\n",
      "[0.18963185 0.8103682 ]\n",
      "[0.27355316 0.72644687]\n",
      "[0.9340282  0.06597177]\n",
      "[0.23208877 0.7679112 ]\n",
      "[0.3490977 0.6509022]\n",
      "[0.3484496 0.6515504]\n",
      "[0.9501776  0.04982242]\n",
      "[0.13466413 0.86533594]\n",
      "[0.3739465  0.62605345]\n",
      "[0.9122439  0.08775612]\n",
      "[0.37892154 0.6210785 ]\n",
      "[0.9101127  0.08988728]\n",
      "[0.22349367 0.7765063 ]\n",
      "[0.49375117 0.50624883]\n",
      "[0.90104055 0.09895952]\n",
      "[0.597387   0.40261295]\n",
      "[0.17516433 0.8248356 ]\n",
      "[0.90614086 0.09385917]\n",
      "[0.909983   0.09001704]\n",
      "[0.35762122 0.6423788 ]\n",
      "[0.8833294  0.11667059]\n",
      "[0.8881214 0.1118786]\n",
      "[0.82433635 0.17566365]\n",
      "[0.9300811  0.06991889]\n",
      "[0.36053458 0.6394655 ]\n",
      "[0.89557916 0.1044208 ]\n",
      "[0.9488271  0.05117286]\n",
      "[0.91439915 0.08560091]\n",
      "[0.8930238  0.10697629]\n",
      "[0.8691816 0.1308184]\n",
      "[0.85362804 0.1463719 ]\n",
      "[0.10638639 0.8936136 ]\n",
      "[0.90883213 0.0911679 ]\n",
      "[0.900576   0.09942396]\n",
      "[0.3333854  0.66661465]\n",
      "[0.07696379 0.9230363 ]\n",
      "[0.90760577 0.09239426]\n",
      "[0.88614106 0.11385893]\n",
      "[0.909983   0.09001704]\n",
      "[0.62339115 0.3766089 ]\n",
      "[0.87993854 0.12006151]\n",
      "[0.8554098  0.14459017]\n",
      "[0.9319458  0.06805424]\n",
      "[0.8554088  0.14459121]\n",
      "[0.90893054 0.09106945]\n",
      "[0.82953894 0.17046101]\n",
      "[0.8946007  0.10539932]\n",
      "[0.699363 0.300637]\n",
      "[0.83372265 0.1662774 ]\n",
      "[0.88917947 0.11082054]\n",
      "[0.8204292  0.17957085]\n",
      "[0.40033504 0.5996649 ]\n",
      "[0.8554088  0.14459121]\n",
      "[0.3333322 0.6666678]\n",
      "[0.88619953 0.11380042]\n",
      "[0.09868661 0.9013134 ]\n",
      "[0.2735736 0.7264264]\n",
      "[0.9186365  0.08136351]\n",
      "[0.11516366 0.8848364 ]\n",
      "[0.9012658  0.09873421]\n",
      "[0.8550449 0.1449551]\n",
      "[0.0832782 0.9167218]\n",
      "[0.8954811  0.10451891]\n",
      "[0.25850877 0.7414912 ]\n",
      "[0.91000795 0.08999202]\n",
      "[0.7527854  0.24721465]\n",
      "[0.9401716  0.05982831]\n",
      "[0.8833294  0.11667059]\n",
      "[0.37810963 0.62189037]\n",
      "[0.11653029 0.88346976]\n",
      "[0.8472723  0.15272771]\n",
      "[0.6998882 0.3001117]\n",
      "[0.8929093 0.1070907]\n",
      "[0.8913369 0.1086631]\n",
      "[0.7680864  0.23191364]\n",
      "[0.81746024 0.18253978]\n",
      "[0.05913045 0.9408695 ]\n",
      "[0.49331325 0.5066867 ]\n",
      "[0.8875126  0.11248737]\n",
      "[0.7242959  0.27570406]\n",
      "[0.3332973 0.6667027]\n",
      "[0.27550006 0.72449994]\n",
      "[0.7993741 0.2006259]\n",
      "[0.7445182  0.25548178]\n",
      "[0.8917309  0.10826913]\n",
      "[0.8638056  0.13619441]\n",
      "[0.1633894  0.83661056]\n",
      "[0.93603027 0.06396973]\n",
      "[0.901759 0.098241]\n",
      "[0.51454633 0.4854536 ]\n",
      "[0.3331616 0.6668384]\n",
      "[0.7518939  0.24810605]\n",
      "[0.9249882  0.07501177]\n",
      "[0.8448754  0.15512462]\n",
      "[0.89852965 0.1014704 ]\n",
      "[0.9401716  0.05982831]\n",
      "[0.9091651  0.09083495]\n",
      "[0.05764245 0.9423576 ]\n",
      "[0.23946512 0.7605348 ]\n",
      "[0.90345836 0.09654169]\n",
      "[0.32530236 0.6746977 ]\n",
      "[0.66136897 0.3386311 ]\n",
      "[0.89861995 0.10138011]\n",
      "[0.8797103  0.12028966]\n",
      "[0.84365547 0.15634452]\n",
      "[0.8900875  0.10991254]\n",
      "[0.33333772 0.66666234]\n",
      "[0.9098054  0.09019452]\n",
      "[0.5321305  0.46786946]\n",
      "[0.62898374 0.3710163 ]\n",
      "[0.91655177 0.0834483 ]\n",
      "[0.8677155 0.1322845]\n",
      "[0.24193443 0.7580656 ]\n",
      "[0.55268425 0.4473158 ]\n",
      "[0.8915875  0.10841247]\n",
      "[0.6651319 0.334868 ]\n",
      "[0.7768664  0.22313358]\n",
      "[0.11757426 0.8824257 ]\n",
      "[0.15007074 0.8499293 ]\n",
      "[0.8790117  0.12098829]\n",
      "[0.34882194 0.6511781 ]\n",
      "[0.9002733  0.09972673]\n",
      "[0.8554098  0.14459017]\n",
      "[0.38539806 0.61460197]\n",
      "[0.88333195 0.11666802]\n",
      "[0.12864526 0.87135476]\n",
      "[0.20531319 0.79468685]\n",
      "[0.90311235 0.09688763]\n",
      "[0.33655283 0.66344714]\n",
      "[0.8887419  0.11125813]\n",
      "[0.74817944 0.2518206 ]\n",
      "[0.9078771  0.09212298]\n",
      "[0.3364293  0.66357064]\n",
      "[0.4833631 0.5166369]\n",
      "[0.93878424 0.06121574]\n",
      "[0.8135524 0.1864476]\n",
      "[0.22649336 0.7735066 ]\n",
      "[0.6474383 0.3525617]\n",
      "[0.1936578  0.80634224]\n",
      "[0.66423833 0.3357617 ]\n",
      "[0.9111471  0.08885287]\n",
      "[0.89023036 0.10976964]\n",
      "[0.88173026 0.11826974]\n",
      "[0.9729408  0.02705919]\n",
      "[0.17406864 0.8259313 ]\n",
      "[0.30911386 0.6908862 ]\n",
      "[0.8554088  0.14459121]\n",
      "[0.7871448 0.2128553]\n",
      "[0.16381325 0.83618677]\n",
      "[0.6233623  0.37663764]\n",
      "[0.9097473  0.09025266]\n",
      "[0.20364696 0.79635304]\n",
      "[0.22592394 0.77407604]\n",
      "[0.92067796 0.07932209]\n",
      "[0.4982735  0.50172657]\n",
      "[0.8164796  0.18352038]\n",
      "[0.63593227 0.36406773]\n"
     ]
    }
   ],
   "source": [
    "result = list(linear_est.predict(eval_input_fn))\n",
    "# can check the data for each result \n",
    "# dfeval.loc[index]\n",
    "# y_eval.loc[index]\n",
    "for p in result:\n",
    "    print(p[\"probabilities\"])"
   ]
  },
  {
   "cell_type": "markdown",
   "id": "authorized-assumption",
   "metadata": {},
   "source": [
    "## Classification\n",
    "\n",
    "- Used to seperate data points into classes of different labels\n"
   ]
  },
  {
   "cell_type": "markdown",
   "id": "faced-wildlife",
   "metadata": {},
   "source": [
    "### Loading the dataset"
   ]
  },
  {
   "cell_type": "code",
   "execution_count": 136,
   "id": "modular-bundle",
   "metadata": {},
   "outputs": [
    {
     "data": {
      "text/html": [
       "<div>\n",
       "<style scoped>\n",
       "    .dataframe tbody tr th:only-of-type {\n",
       "        vertical-align: middle;\n",
       "    }\n",
       "\n",
       "    .dataframe tbody tr th {\n",
       "        vertical-align: top;\n",
       "    }\n",
       "\n",
       "    .dataframe thead th {\n",
       "        text-align: right;\n",
       "    }\n",
       "</style>\n",
       "<table border=\"1\" class=\"dataframe\">\n",
       "  <thead>\n",
       "    <tr style=\"text-align: right;\">\n",
       "      <th></th>\n",
       "      <th>SepalLength</th>\n",
       "      <th>SepdalWidth</th>\n",
       "      <th>PetalLength</th>\n",
       "      <th>PetalWidth</th>\n",
       "      <th>Species</th>\n",
       "    </tr>\n",
       "  </thead>\n",
       "  <tbody>\n",
       "    <tr>\n",
       "      <th>0</th>\n",
       "      <td>6.4</td>\n",
       "      <td>2.8</td>\n",
       "      <td>5.6</td>\n",
       "      <td>2.2</td>\n",
       "      <td>2</td>\n",
       "    </tr>\n",
       "    <tr>\n",
       "      <th>1</th>\n",
       "      <td>5.0</td>\n",
       "      <td>2.3</td>\n",
       "      <td>3.3</td>\n",
       "      <td>1.0</td>\n",
       "      <td>1</td>\n",
       "    </tr>\n",
       "    <tr>\n",
       "      <th>2</th>\n",
       "      <td>4.9</td>\n",
       "      <td>2.5</td>\n",
       "      <td>4.5</td>\n",
       "      <td>1.7</td>\n",
       "      <td>2</td>\n",
       "    </tr>\n",
       "    <tr>\n",
       "      <th>3</th>\n",
       "      <td>4.9</td>\n",
       "      <td>3.1</td>\n",
       "      <td>1.5</td>\n",
       "      <td>0.1</td>\n",
       "      <td>0</td>\n",
       "    </tr>\n",
       "    <tr>\n",
       "      <th>4</th>\n",
       "      <td>5.7</td>\n",
       "      <td>3.8</td>\n",
       "      <td>1.7</td>\n",
       "      <td>0.3</td>\n",
       "      <td>0</td>\n",
       "    </tr>\n",
       "  </tbody>\n",
       "</table>\n",
       "</div>"
      ],
      "text/plain": [
       "   SepalLength  SepdalWidth  PetalLength  PetalWidth  Species\n",
       "0          6.4          2.8          5.6         2.2        2\n",
       "1          5.0          2.3          3.3         1.0        1\n",
       "2          4.9          2.5          4.5         1.7        2\n",
       "3          4.9          3.1          1.5         0.1        0\n",
       "4          5.7          3.8          1.7         0.3        0"
      ]
     },
     "execution_count": 136,
     "metadata": {},
     "output_type": "execute_result"
    }
   ],
   "source": [
    "from __future__ import absolute_import, division, print_function, unicode_literals\n",
    "\n",
    "import tensorflow as tf\n",
    "import pandas as pd\n",
    "\n",
    "# Using Iris Flower dataset\n",
    "CSV_COL_NAME = [\"SepalLength\", \"SepdalWidth\", \"PetalLength\", \"PetalWidth\", \"Species\"]\n",
    "SPECIES = [\"Setosa\", \"Versicolor\", \"Virginia\"]\n",
    "\n",
    "train_path = tf.keras.utils.get_file(\"iris_training.csv\", \"https://storage.googleapis.com/download.tensorflow.org/data/iris_training.csv\")\n",
    "test_path = tf.keras.utils.get_file(\"iris_test.csv\", \"https://storage.googleapis.com/download.tensorflow.org/data/iris_test.csv\")\n",
    "\n",
    "train = pd.read_csv(train_path, names=CSV_COL_NAME, header=0)\n",
    "test = pd.read_csv(test_path, names=CSV_COL_NAME, header=0)\n",
    "\n",
    "train.head()\n"
   ]
  },
  {
   "cell_type": "code",
   "execution_count": 137,
   "id": "daily-weather",
   "metadata": {},
   "outputs": [
    {
     "data": {
      "text/html": [
       "<div>\n",
       "<style scoped>\n",
       "    .dataframe tbody tr th:only-of-type {\n",
       "        vertical-align: middle;\n",
       "    }\n",
       "\n",
       "    .dataframe tbody tr th {\n",
       "        vertical-align: top;\n",
       "    }\n",
       "\n",
       "    .dataframe thead th {\n",
       "        text-align: right;\n",
       "    }\n",
       "</style>\n",
       "<table border=\"1\" class=\"dataframe\">\n",
       "  <thead>\n",
       "    <tr style=\"text-align: right;\">\n",
       "      <th></th>\n",
       "      <th>SepalLength</th>\n",
       "      <th>SepdalWidth</th>\n",
       "      <th>PetalLength</th>\n",
       "      <th>PetalWidth</th>\n",
       "    </tr>\n",
       "  </thead>\n",
       "  <tbody>\n",
       "    <tr>\n",
       "      <th>0</th>\n",
       "      <td>6.4</td>\n",
       "      <td>2.8</td>\n",
       "      <td>5.6</td>\n",
       "      <td>2.2</td>\n",
       "    </tr>\n",
       "    <tr>\n",
       "      <th>1</th>\n",
       "      <td>5.0</td>\n",
       "      <td>2.3</td>\n",
       "      <td>3.3</td>\n",
       "      <td>1.0</td>\n",
       "    </tr>\n",
       "    <tr>\n",
       "      <th>2</th>\n",
       "      <td>4.9</td>\n",
       "      <td>2.5</td>\n",
       "      <td>4.5</td>\n",
       "      <td>1.7</td>\n",
       "    </tr>\n",
       "    <tr>\n",
       "      <th>3</th>\n",
       "      <td>4.9</td>\n",
       "      <td>3.1</td>\n",
       "      <td>1.5</td>\n",
       "      <td>0.1</td>\n",
       "    </tr>\n",
       "    <tr>\n",
       "      <th>4</th>\n",
       "      <td>5.7</td>\n",
       "      <td>3.8</td>\n",
       "      <td>1.7</td>\n",
       "      <td>0.3</td>\n",
       "    </tr>\n",
       "  </tbody>\n",
       "</table>\n",
       "</div>"
      ],
      "text/plain": [
       "   SepalLength  SepdalWidth  PetalLength  PetalWidth\n",
       "0          6.4          2.8          5.6         2.2\n",
       "1          5.0          2.3          3.3         1.0\n",
       "2          4.9          2.5          4.5         1.7\n",
       "3          4.9          3.1          1.5         0.1\n",
       "4          5.7          3.8          1.7         0.3"
      ]
     },
     "execution_count": 137,
     "metadata": {},
     "output_type": "execute_result"
    }
   ],
   "source": [
    "train_y = train.pop(\"Species\")\n",
    "test_y = test.pop(\"Species\")\n",
    "\n",
    "train.head()"
   ]
  },
  {
   "cell_type": "code",
   "execution_count": 138,
   "id": "computational-bennett",
   "metadata": {},
   "outputs": [
    {
     "data": {
      "text/plain": [
       "(120, 4)"
      ]
     },
     "execution_count": 138,
     "metadata": {},
     "output_type": "execute_result"
    }
   ],
   "source": [
    "train.shape"
   ]
  },
  {
   "cell_type": "markdown",
   "id": "armed-pittsburgh",
   "metadata": {},
   "source": [
    "### Input Function and Feature Column"
   ]
  },
  {
   "cell_type": "code",
   "execution_count": 139,
   "id": "metric-fitting",
   "metadata": {},
   "outputs": [
    {
     "name": "stdout",
     "output_type": "stream",
     "text": [
      "[NumericColumn(key='SepalLength', shape=(1,), default_value=None, dtype=tf.float32, normalizer_fn=None), NumericColumn(key='SepdalWidth', shape=(1,), default_value=None, dtype=tf.float32, normalizer_fn=None), NumericColumn(key='PetalLength', shape=(1,), default_value=None, dtype=tf.float32, normalizer_fn=None), NumericColumn(key='PetalWidth', shape=(1,), default_value=None, dtype=tf.float32, normalizer_fn=None)]\n"
     ]
    }
   ],
   "source": [
    "# input function\n",
    "def input_fn(feat, lab, train=True, bs=256): #features, labels, training, batch_size\n",
    "    ds = tf.data.Dataset.from_tensor_slices((dict(feat), lab))\n",
    "    if train:\n",
    "        ds = ds.shuffle(1000).repeat()\n",
    "    return ds.batch(bs)\n",
    "\n",
    "# feature column\n",
    "fc = []\n",
    "for k in train.keys():\n",
    "    fc.append(tf.feature_column.numeric_column(key=k))\n",
    "print(fc)"
   ]
  },
  {
   "cell_type": "markdown",
   "id": "turkish-psychiatry",
   "metadata": {},
   "source": [
    "### Building the Model\n",
    "- Using pre-built classifier that are built-in tensorflow\n",
    "- ***DNNClassifier*** (Deep Neural Network)\n",
    "- ***LinearClassifier***"
   ]
  },
  {
   "cell_type": "code",
   "execution_count": 140,
   "id": "competitive-compression",
   "metadata": {},
   "outputs": [
    {
     "name": "stdout",
     "output_type": "stream",
     "text": [
      "INFO:tensorflow:Using default config.\n",
      "WARNING:tensorflow:Using temporary folder as model directory: /var/folders/95/jh39mtrx5298hj0gklkx1gym0000gn/T/tmpuchmm9po\n",
      "INFO:tensorflow:Using config: {'_model_dir': '/var/folders/95/jh39mtrx5298hj0gklkx1gym0000gn/T/tmpuchmm9po', '_tf_random_seed': None, '_save_summary_steps': 100, '_save_checkpoints_steps': None, '_save_checkpoints_secs': 600, '_session_config': allow_soft_placement: true\n",
      "graph_options {\n",
      "  rewrite_options {\n",
      "    meta_optimizer_iterations: ONE\n",
      "  }\n",
      "}\n",
      ", '_keep_checkpoint_max': 5, '_keep_checkpoint_every_n_hours': 10000, '_log_step_count_steps': 100, '_train_distribute': None, '_device_fn': None, '_protocol': None, '_eval_distribute': None, '_experimental_distribute': None, '_experimental_max_worker_delay_secs': None, '_session_creation_timeout_secs': 7200, '_checkpoint_save_graph_def': True, '_service': None, '_cluster_spec': ClusterSpec({}), '_task_type': 'worker', '_task_id': 0, '_global_id_in_cluster': 0, '_master': '', '_evaluation_master': '', '_is_chief': True, '_num_ps_replicas': 0, '_num_worker_replicas': 1}\n"
     ]
    }
   ],
   "source": [
    "# hidden units = 2 layers of 30 nodes and 10 nodes\n",
    "classifier = tf.estimator.DNNClassifier(feature_columns=fc, hidden_units=[30,10], n_classes=3) "
   ]
  },
  {
   "cell_type": "markdown",
   "id": "civilian-robinson",
   "metadata": {},
   "source": [
    "### Training the Model"
   ]
  },
  {
   "cell_type": "code",
   "execution_count": 156,
   "id": "chicken-prairie",
   "metadata": {
    "scrolled": false
   },
   "outputs": [
    {
     "name": "stdout",
     "output_type": "stream",
     "text": [
      "INFO:tensorflow:Calling model_fn.\n",
      "INFO:tensorflow:Done calling model_fn.\n",
      "INFO:tensorflow:Create CheckpointSaverHook.\n",
      "INFO:tensorflow:Graph was finalized.\n",
      "INFO:tensorflow:Restoring parameters from /var/folders/95/jh39mtrx5298hj0gklkx1gym0000gn/T/tmpuchmm9po/model.ckpt-5000\n",
      "INFO:tensorflow:Running local_init_op.\n",
      "INFO:tensorflow:Done running local_init_op.\n",
      "INFO:tensorflow:Calling checkpoint listeners before saving checkpoint 5000...\n",
      "INFO:tensorflow:Saving checkpoints for 5000 into /var/folders/95/jh39mtrx5298hj0gklkx1gym0000gn/T/tmpuchmm9po/model.ckpt.\n",
      "INFO:tensorflow:Calling checkpoint listeners after saving checkpoint 5000...\n",
      "INFO:tensorflow:loss = 0.4842295, step = 5000\n",
      "INFO:tensorflow:global_step/sec: 313.013\n",
      "INFO:tensorflow:loss = 0.47953856, step = 5100 (0.321 sec)\n",
      "INFO:tensorflow:global_step/sec: 340.893\n",
      "INFO:tensorflow:loss = 0.480792, step = 5200 (0.293 sec)\n",
      "INFO:tensorflow:global_step/sec: 377.679\n",
      "INFO:tensorflow:loss = 0.48163217, step = 5300 (0.265 sec)\n",
      "INFO:tensorflow:global_step/sec: 407.601\n",
      "INFO:tensorflow:loss = 0.4655884, step = 5400 (0.245 sec)\n",
      "INFO:tensorflow:global_step/sec: 371.716\n",
      "INFO:tensorflow:loss = 0.4685043, step = 5500 (0.269 sec)\n",
      "INFO:tensorflow:global_step/sec: 411.548\n",
      "INFO:tensorflow:loss = 0.46798193, step = 5600 (0.243 sec)\n",
      "INFO:tensorflow:global_step/sec: 378.351\n",
      "INFO:tensorflow:loss = 0.46039188, step = 5700 (0.265 sec)\n",
      "INFO:tensorflow:global_step/sec: 397.451\n",
      "INFO:tensorflow:loss = 0.4656691, step = 5800 (0.251 sec)\n",
      "INFO:tensorflow:global_step/sec: 371.274\n",
      "INFO:tensorflow:loss = 0.4484075, step = 5900 (0.269 sec)\n",
      "INFO:tensorflow:global_step/sec: 374.089\n",
      "INFO:tensorflow:loss = 0.45779127, step = 6000 (0.267 sec)\n",
      "INFO:tensorflow:global_step/sec: 364.539\n",
      "INFO:tensorflow:loss = 0.44931763, step = 6100 (0.275 sec)\n",
      "INFO:tensorflow:global_step/sec: 370.369\n",
      "INFO:tensorflow:loss = 0.4418284, step = 6200 (0.270 sec)\n",
      "INFO:tensorflow:global_step/sec: 372.075\n",
      "INFO:tensorflow:loss = 0.4327885, step = 6300 (0.269 sec)\n",
      "INFO:tensorflow:global_step/sec: 407.523\n",
      "INFO:tensorflow:loss = 0.44152027, step = 6400 (0.245 sec)\n",
      "INFO:tensorflow:global_step/sec: 375.167\n",
      "INFO:tensorflow:loss = 0.4348336, step = 6500 (0.266 sec)\n",
      "INFO:tensorflow:global_step/sec: 364.248\n",
      "INFO:tensorflow:loss = 0.40869778, step = 6600 (0.275 sec)\n",
      "INFO:tensorflow:global_step/sec: 369.979\n",
      "INFO:tensorflow:loss = 0.41257644, step = 6700 (0.270 sec)\n",
      "INFO:tensorflow:global_step/sec: 220.628\n",
      "INFO:tensorflow:loss = 0.42344606, step = 6800 (0.455 sec)\n",
      "INFO:tensorflow:global_step/sec: 249.951\n",
      "INFO:tensorflow:loss = 0.4193805, step = 6900 (0.399 sec)\n",
      "INFO:tensorflow:global_step/sec: 363.157\n",
      "INFO:tensorflow:loss = 0.42044303, step = 7000 (0.275 sec)\n",
      "INFO:tensorflow:global_step/sec: 332.641\n",
      "INFO:tensorflow:loss = 0.40975296, step = 7100 (0.301 sec)\n",
      "INFO:tensorflow:global_step/sec: 208.853\n",
      "INFO:tensorflow:loss = 0.4145131, step = 7200 (0.479 sec)\n",
      "INFO:tensorflow:global_step/sec: 375.205\n",
      "INFO:tensorflow:loss = 0.39673686, step = 7300 (0.266 sec)\n",
      "INFO:tensorflow:global_step/sec: 374.236\n",
      "INFO:tensorflow:loss = 0.3939032, step = 7400 (0.267 sec)\n",
      "INFO:tensorflow:global_step/sec: 305.435\n",
      "INFO:tensorflow:loss = 0.39654392, step = 7500 (0.327 sec)\n",
      "INFO:tensorflow:global_step/sec: 205.646\n",
      "INFO:tensorflow:loss = 0.40609273, step = 7600 (0.487 sec)\n",
      "INFO:tensorflow:global_step/sec: 184.274\n",
      "INFO:tensorflow:loss = 0.38802266, step = 7700 (0.544 sec)\n",
      "INFO:tensorflow:global_step/sec: 158.189\n",
      "INFO:tensorflow:loss = 0.38931337, step = 7800 (0.632 sec)\n",
      "INFO:tensorflow:global_step/sec: 233.476\n",
      "INFO:tensorflow:loss = 0.38089728, step = 7900 (0.427 sec)\n",
      "INFO:tensorflow:global_step/sec: 334.435\n",
      "INFO:tensorflow:loss = 0.38414901, step = 8000 (0.300 sec)\n",
      "INFO:tensorflow:global_step/sec: 277.583\n",
      "INFO:tensorflow:loss = 0.3875258, step = 8100 (0.360 sec)\n",
      "INFO:tensorflow:global_step/sec: 379.694\n",
      "INFO:tensorflow:loss = 0.3763075, step = 8200 (0.263 sec)\n",
      "INFO:tensorflow:global_step/sec: 156.996\n",
      "INFO:tensorflow:loss = 0.37672502, step = 8300 (0.638 sec)\n",
      "INFO:tensorflow:global_step/sec: 170.608\n",
      "INFO:tensorflow:loss = 0.3668789, step = 8400 (0.589 sec)\n",
      "INFO:tensorflow:global_step/sec: 280.88\n",
      "INFO:tensorflow:loss = 0.36301458, step = 8500 (0.352 sec)\n",
      "INFO:tensorflow:global_step/sec: 386.409\n",
      "INFO:tensorflow:loss = 0.36275998, step = 8600 (0.259 sec)\n",
      "INFO:tensorflow:global_step/sec: 325.301\n",
      "INFO:tensorflow:loss = 0.35504913, step = 8700 (0.308 sec)\n",
      "INFO:tensorflow:global_step/sec: 271.121\n",
      "INFO:tensorflow:loss = 0.36677647, step = 8800 (0.368 sec)\n",
      "INFO:tensorflow:global_step/sec: 332.992\n",
      "INFO:tensorflow:loss = 0.35948882, step = 8900 (0.300 sec)\n",
      "INFO:tensorflow:global_step/sec: 226.835\n",
      "INFO:tensorflow:loss = 0.36013785, step = 9000 (0.441 sec)\n",
      "INFO:tensorflow:global_step/sec: 316.842\n",
      "INFO:tensorflow:loss = 0.35795337, step = 9100 (0.316 sec)\n",
      "INFO:tensorflow:global_step/sec: 343.72\n",
      "INFO:tensorflow:loss = 0.35432756, step = 9200 (0.291 sec)\n",
      "INFO:tensorflow:global_step/sec: 294.131\n",
      "INFO:tensorflow:loss = 0.34489667, step = 9300 (0.340 sec)\n",
      "INFO:tensorflow:global_step/sec: 220.648\n",
      "INFO:tensorflow:loss = 0.34693372, step = 9400 (0.459 sec)\n",
      "INFO:tensorflow:global_step/sec: 315.402\n",
      "INFO:tensorflow:loss = 0.34808755, step = 9500 (0.311 sec)\n",
      "INFO:tensorflow:global_step/sec: 376.2\n",
      "INFO:tensorflow:loss = 0.33675587, step = 9600 (0.266 sec)\n",
      "INFO:tensorflow:global_step/sec: 352.016\n",
      "INFO:tensorflow:loss = 0.34227115, step = 9700 (0.284 sec)\n",
      "INFO:tensorflow:global_step/sec: 394.996\n",
      "INFO:tensorflow:loss = 0.3451609, step = 9800 (0.253 sec)\n",
      "INFO:tensorflow:global_step/sec: 377.269\n",
      "INFO:tensorflow:loss = 0.3387092, step = 9900 (0.265 sec)\n",
      "INFO:tensorflow:Calling checkpoint listeners before saving checkpoint 10000...\n",
      "INFO:tensorflow:Saving checkpoints for 10000 into /var/folders/95/jh39mtrx5298hj0gklkx1gym0000gn/T/tmpuchmm9po/model.ckpt.\n",
      "INFO:tensorflow:Calling checkpoint listeners after saving checkpoint 10000...\n",
      "INFO:tensorflow:Loss for final step: 0.33241144.\n"
     ]
    },
    {
     "data": {
      "text/plain": [
       "<tensorflow_estimator.python.estimator.canned.dnn.DNNClassifierV2 at 0x1463be280>"
      ]
     },
     "execution_count": 156,
     "metadata": {},
     "output_type": "execute_result"
    }
   ],
   "source": [
    "classifier.train(input_fn=lambda: input_fn(train, train_y, train=True), steps=5000)"
   ]
  },
  {
   "cell_type": "markdown",
   "id": "transparent-aquarium",
   "metadata": {},
   "source": [
    "### Using the model to make predictions"
   ]
  },
  {
   "cell_type": "code",
   "execution_count": 157,
   "id": "certified-bermuda",
   "metadata": {},
   "outputs": [
    {
     "name": "stdout",
     "output_type": "stream",
     "text": [
      "INFO:tensorflow:Calling model_fn.\n",
      "INFO:tensorflow:Done calling model_fn.\n",
      "INFO:tensorflow:Starting evaluation at 2021-02-12T23:57:56Z\n",
      "INFO:tensorflow:Graph was finalized.\n",
      "INFO:tensorflow:Restoring parameters from /var/folders/95/jh39mtrx5298hj0gklkx1gym0000gn/T/tmpuchmm9po/model.ckpt-10000\n",
      "INFO:tensorflow:Running local_init_op.\n",
      "INFO:tensorflow:Done running local_init_op.\n",
      "INFO:tensorflow:Inference Time : 0.45663s\n",
      "INFO:tensorflow:Finished evaluation at 2021-02-12-23:57:57\n",
      "INFO:tensorflow:Saving dict for global step 10000: accuracy = 0.93333334, average_loss = 0.40911797, global_step = 10000, loss = 0.40911797\n",
      "INFO:tensorflow:Saving 'checkpoint_path' summary for global step 10000: /var/folders/95/jh39mtrx5298hj0gklkx1gym0000gn/T/tmpuchmm9po/model.ckpt-10000\n"
     ]
    },
    {
     "data": {
      "text/plain": [
       "{'accuracy': 0.93333334,\n",
       " 'average_loss': 0.40911797,\n",
       " 'loss': 0.40911797,\n",
       " 'global_step': 10000}"
      ]
     },
     "execution_count": 157,
     "metadata": {},
     "output_type": "execute_result"
    }
   ],
   "source": [
    "classifier.evaluate(input_fn=lambda: input_fn(test, test_y, train=False))"
   ]
  },
  {
   "cell_type": "code",
   "execution_count": 158,
   "id": "julian-greenhouse",
   "metadata": {},
   "outputs": [
    {
     "name": "stdout",
     "output_type": "stream",
     "text": [
      "INFO:tensorflow:Calling model_fn.\n",
      "INFO:tensorflow:Done calling model_fn.\n",
      "INFO:tensorflow:Graph was finalized.\n",
      "INFO:tensorflow:Restoring parameters from /var/folders/95/jh39mtrx5298hj0gklkx1gym0000gn/T/tmpuchmm9po/model.ckpt-10000\n",
      "INFO:tensorflow:Running local_init_op.\n",
      "INFO:tensorflow:Done running local_init_op.\n",
      "Prediction: Versicolor - 53.89553904533386%, Probability = [0.0756025 0.5389554 0.3854421]\n",
      "Prediction: Virginia - 66.51661992073059%, Probability = [0.0177104  0.31712332 0.6651662 ]\n",
      "Prediction: Setosa - 86.73292398452759%, Probability = [0.86732924 0.10283857 0.02983219]\n",
      "Prediction: Versicolor - 49.31774437427521%, Probability = [0.05474228 0.49317744 0.4520803 ]\n",
      "Prediction: Versicolor - 52.16040015220642%, Probability = [0.08263214 0.521604   0.3957638 ]\n",
      "Prediction: Versicolor - 58.20889472961426%, Probability = [0.09566032 0.58208895 0.32225084]\n",
      "Prediction: Setosa - 95.82270383834839%, Probability = [0.95822704 0.03422846 0.00754449]\n",
      "Prediction: Virginia - 59.894901514053345%, Probability = [0.02886622 0.3721848  0.598949  ]\n",
      "Prediction: Versicolor - 54.092925786972046%, Probability = [0.08294788 0.54092926 0.3761228 ]\n",
      "Prediction: Virginia - 78.23928594589233%, Probability = [0.00939604 0.2082111  0.78239286]\n",
      "Prediction: Virginia - 76.36508345603943%, Probability = [0.00934755 0.22700165 0.76365083]\n",
      "Prediction: Setosa - 91.95639491081238%, Probability = [0.91956395 0.06266265 0.01777342]\n",
      "Prediction: Virginia - 75.95683932304382%, Probability = [0.01416057 0.22627108 0.7595684 ]\n",
      "Prediction: Versicolor - 50.935471057891846%, Probability = [0.08157618 0.5093547  0.4090691 ]\n",
      "Prediction: Versicolor - 57.34134316444397%, Probability = [0.14260079 0.57341343 0.2839858 ]\n",
      "Prediction: Setosa - 93.54097843170166%, Probability = [0.9354098  0.05159209 0.01299815]\n",
      "Prediction: Versicolor - 52.58568525314331%, Probability = [0.2363994  0.52585685 0.23774372]\n",
      "Prediction: Setosa - 83.57582092285156%, Probability = [0.8357582  0.12541182 0.03882993]\n",
      "Prediction: Setosa - 92.45994687080383%, Probability = [0.92459947 0.05983396 0.01556666]\n",
      "Prediction: Virginia - 78.06985974311829%, Probability = [0.01250696 0.20679443 0.7806986 ]\n",
      "Prediction: Setosa - 91.94707870483398%, Probability = [0.9194708  0.06415932 0.01636987]\n",
      "Prediction: Virginia - 54.32220101356506%, Probability = [0.0425393  0.41423872 0.543222  ]\n",
      "Prediction: Virginia - 77.79141068458557%, Probability = [0.01034756 0.21173832 0.7779141 ]\n",
      "Prediction: Virginia - 55.71650266647339%, Probability = [0.03686795 0.40596697 0.557165  ]\n",
      "Prediction: Versicolor - 57.82877802848816%, Probability = [0.13011354 0.5782878  0.2915987 ]\n",
      "Prediction: Versicolor - 49.71165359020233%, Probability = [0.05538362 0.49711654 0.44749984]\n",
      "Prediction: Setosa - 94.25045251846313%, Probability = [0.9425045  0.04637616 0.01111935]\n",
      "Prediction: Versicolor - 56.383395195007324%, Probability = [0.06916109 0.56383395 0.36700496]\n",
      "Prediction: Virginia - 81.45407438278198%, Probability = [0.00670666 0.17875257 0.81454074]\n",
      "Prediction: Versicolor - 59.72639322280884%, Probability = [0.110946   0.59726393 0.2917901 ]\n"
     ]
    }
   ],
   "source": [
    "results = list(classifier.predict(input_fn=lambda: input_fn(test, test_y, train=False)))\n",
    "\n",
    "for n in results:\n",
    "    pred = n[\"class_ids\"][0]\n",
    "    prob = n[\"probabilities\"]\n",
    "    print(f\"Prediction: {SPECIES[pred]} - {prob[pred] * 100}%, Probability = {prob}\")"
   ]
  }
 ],
 "metadata": {
  "kernelspec": {
   "display_name": "Python 3",
   "language": "python",
   "name": "python3"
  },
  "language_info": {
   "codemirror_mode": {
    "name": "ipython",
    "version": 3
   },
   "file_extension": ".py",
   "mimetype": "text/x-python",
   "name": "python",
   "nbconvert_exporter": "python",
   "pygments_lexer": "ipython3",
   "version": "3.8.5"
  }
 },
 "nbformat": 4,
 "nbformat_minor": 5
}
