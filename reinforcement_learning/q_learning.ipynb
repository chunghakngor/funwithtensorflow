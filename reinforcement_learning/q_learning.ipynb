{
 "cells": [
  {
   "cell_type": "markdown",
   "id": "reserved-repository",
   "metadata": {},
   "source": [
    "### Q-Learning\n",
    "\n",
    "Q-Learning is a simple yet quite powerful technique in machine learning that involves learning a matrix of action-reward values. This matrix is often reffered to as a Q-Table or Q-Matrix. The matrix is in shape (number of possible states, number of possible actions) where each value at matrix[n, m] represents the agents expected reward given they are in state n and take action m. The Q-learning algorithm defines the way we update the values in the matrix and decide what action to take at each state. The idea is that after a succesful training/learning of this Q-Table/matrix we can determine the action an agent should take in any state by looking at that states row in the matrix and taking the maximium value column as the action.\n",
    "\n",
    "**Consider this example.**\n",
    "\n",
    "Let's say A1-A4 are the possible actions and we have 3 states represented by each row (state 1 - state 3).\n",
    "\n",
    "| A1  | A2  | A3  | A4  |\n",
    "|:--: |:--: |:--: |:--: |\n",
    "|  0  |  0  | 10  |  5  |\n",
    "|  5  | 10  |  0  |  0  |\n",
    "| 10  |  5  |  0  |  0  |\n",
    "\n",
    "If that was our Q-Table/matrix then the following would be the preffered actions in each state.\n",
    "\n",
    "> State 1: A3\n",
    "\n",
    "> State 2: A2\n",
    "\n",
    "> State 3: A1\n",
    "\n",
    "We can see that this is because the values in each of those columns are the highest for those states!\n"
   ]
  },
  {
   "cell_type": "markdown",
   "id": "bright-jersey",
   "metadata": {},
   "source": [
    "### Learning the Q-Table\n",
    "\n",
    "I'll start by noting that our Q-Table starts of with all 0 values. This is because the agent has yet to learn anything about the enviornment. \n",
    "\n",
    "Our agent learns by exploring the enviornment and observing the outcome/reward from each action it takes in each state. But how does it know what action to take in each state? There are two ways that our agent can decide on which action to take.\n",
    "1. Randomly picking a valid action\n",
    "2. Using the current Q-Table to find the best action.\n",
    "\n",
    "Near the beginning of our agents learning it will mostly take random actions in order to explore the enviornment and enter many different states. As it starts to explore more of the enviornment it will start to gradually rely more on it's learned values (Q-Table) to take actions. This means that as our agent explores more of the enviornment it will develop a better understanding and start to take \"correct\" or better actions more often. It's important that the agent has a good balance of taking random actions and using learned values to ensure it does get trapped in a local maximum. \n",
    "\n",
    "After each new action our agent wil record the new state (if any) that it has entered and the reward that it recieved from taking that action. These values will be used to update the Q-Table. The agent will stop taking new actions only once a certain time limit is reached or it has acheived the goal or reached the end of the enviornment. \n",
    "\n",
    "#### Updating Q-Values\n",
    "The formula for updating the Q-Table after each action is as follows:\n",
    "> $ Q[state, action] = Q[state, action] + \\alpha * (reward + \\gamma * max(Q[newState, :]) - Q[state, action]) $\n",
    "\n",
    "- $\\alpha$ stands for the **Learning Rate**\n",
    "\n",
    "- $\\gamma$ stands for the **Discount Factor**\n",
    "\n",
    "#### Learning Rate $\\alpha$\n",
    "The learning rate $\\alpha$ is a numeric constant that defines how much change is permitted on each QTable update. A high learning rate means that each update will introduce a large change to the current state-action value. A small learning rate means that each update has a more subtle change. Modifying the learning rate will change how the agent explores the enviornment and how quickly it determines the final values in the QTable.\n",
    "\n",
    "#### Discount Factor $\\gamma$\n",
    "Discount factor also know as gamma ($\\gamma$) is used to balance how much focus is put on the current and future reward. A high discount factor means that future rewards will be considered more heavily.\n",
    "\n",
    "<br/>\n",
    "<p>To perform updates on this table we will let the agent explpore the enviornment for a certain period of time and use each of its actions to make an update. Slowly we should start to notice the agent learning and choosing better actions. </p>\n",
    "\n"
   ]
  },
  {
   "cell_type": "code",
   "execution_count": 1,
   "id": "pregnant-princess",
   "metadata": {},
   "outputs": [
    {
     "name": "stdout",
     "output_type": "stream",
     "text": [
      "Requirement already satisfied: gym in /home/chung/.local/lib/python3.8/site-packages (0.18.0)\n",
      "Requirement already satisfied: Pillow<=7.2.0 in /home/chung/.local/lib/python3.8/site-packages (from gym) (7.2.0)\n",
      "Requirement already satisfied: cloudpickle<1.7.0,>=1.2.0 in /home/chung/.local/lib/python3.8/site-packages (from gym) (1.6.0)\n",
      "Requirement already satisfied: scipy in /home/chung/.local/lib/python3.8/site-packages (from gym) (1.6.0)\n",
      "Requirement already satisfied: pyglet<=1.5.0,>=1.4.0 in /home/chung/.local/lib/python3.8/site-packages (from gym) (1.5.0)\n",
      "Requirement already satisfied: numpy>=1.10.4 in /home/chung/.local/lib/python3.8/site-packages (from gym) (1.19.5)\n",
      "Requirement already satisfied: future in /home/chung/.local/lib/python3.8/site-packages (from pyglet<=1.5.0,>=1.4.0->gym) (0.18.2)\n"
     ]
    }
   ],
   "source": [
    "!pip3 install gym"
   ]
  },
  {
   "cell_type": "code",
   "execution_count": 2,
   "id": "abstract-insulin",
   "metadata": {},
   "outputs": [],
   "source": [
    "import gym # Open AI Gym"
   ]
  },
  {
   "cell_type": "code",
   "execution_count": 3,
   "id": "second-shower",
   "metadata": {},
   "outputs": [],
   "source": [
    "env = gym.make('FrozenLake-v0')"
   ]
  },
  {
   "cell_type": "code",
   "execution_count": 4,
   "id": "average-bandwidth",
   "metadata": {},
   "outputs": [
    {
     "name": "stdout",
     "output_type": "stream",
     "text": [
      "16\n",
      "4\n"
     ]
    }
   ],
   "source": [
    "print(env.observation_space.n)   # Get number of states\n",
    "print(env.action_space.n)   # Get number of actions"
   ]
  },
  {
   "cell_type": "markdown",
   "id": "brutal-stage",
   "metadata": {},
   "source": [
    "Reset enviornment to default state "
   ]
  },
  {
   "cell_type": "code",
   "execution_count": 5,
   "id": "excited-addition",
   "metadata": {},
   "outputs": [
    {
     "data": {
      "text/plain": [
       "0"
      ]
     },
     "execution_count": 5,
     "metadata": {},
     "output_type": "execute_result"
    }
   ],
   "source": [
    "env.reset()"
   ]
  },
  {
   "cell_type": "markdown",
   "id": "sensitive-driving",
   "metadata": {},
   "source": [
    "Get a random action"
   ]
  },
  {
   "cell_type": "code",
   "execution_count": 6,
   "id": "pressed-apartment",
   "metadata": {},
   "outputs": [],
   "source": [
    "action = env.action_space.sample()"
   ]
  },
  {
   "cell_type": "markdown",
   "id": "relevant-berkeley",
   "metadata": {},
   "source": [
    "Take action, notice it returns information about the action"
   ]
  },
  {
   "cell_type": "code",
   "execution_count": 7,
   "id": "handed-abraham",
   "metadata": {},
   "outputs": [],
   "source": [
    "new_state, reward, done, info = env.step(action)"
   ]
  },
  {
   "cell_type": "markdown",
   "id": "killing-buyer",
   "metadata": {},
   "source": [
    "Render the GUI for the enviornment "
   ]
  },
  {
   "cell_type": "code",
   "execution_count": 8,
   "id": "coordinated-mileage",
   "metadata": {},
   "outputs": [
    {
     "name": "stdout",
     "output_type": "stream",
     "text": [
      "  (Down)\n",
      "SFFF\n",
      "\u001b[41mF\u001b[0mHFH\n",
      "FFFH\n",
      "HFFG\n"
     ]
    }
   ],
   "source": [
    "env.render()"
   ]
  },
  {
   "cell_type": "markdown",
   "id": "warming-chambers",
   "metadata": {},
   "source": [
    "### Frozen Lake Enviornment\n",
    "Now that we have a basic understanding of how the gym enviornment works it's time to discuss the specific problem we will be solving.\n",
    "\n",
    "The enviornment we loaded above ```FrozenLake-v0``` is one of the simplest enviornments in Open AI Gym. The goal of the agent is to navigate a frozen lake and find the Goal without falling through the ice (render the enviornment above to see an example).\n",
    "\n",
    "There are:\n",
    "- 16 states (one for each square) \n",
    "- 4 possible actions (LEFT, RIGHT, DOWN, UP)\n",
    "- 4 different types of blocks (F: frozen, H: hole, S: start, G: goal)\n",
    "\n"
   ]
  },
  {
   "cell_type": "markdown",
   "id": "convertible-appearance",
   "metadata": {},
   "source": [
    "### Building the Q-Table\n",
    "\n",
    "```\n",
    "import gym\n",
    "import numpy as np\n",
    "import time\n",
    "\n",
    "env = gym.make('FrozenLake-v0')\n",
    "STATES = env.observation_space.n\n",
    "ACTIONS = env.action_space.n\n",
    "\n",
    "EPISODES = 2000 # How many times to run the enviornment from the beginning\n",
    "MAX_STEPS = 100  # Max number of steps allowed for each run of enviornment\n",
    "\n",
    "LEARNING_RATE = 0.81  # Learning rate\n",
    "GAMMA = 0.96\n",
    "\n",
    "Q = np.zeros((STATES, ACTIONS))  # Create a matrix with all 0 values\n",
    "```"
   ]
  },
  {
   "cell_type": "markdown",
   "id": "quantitative-daily",
   "metadata": {},
   "source": [
    "### Picking an Action\n",
    "Remember that we can pick an action using one of two methods:\n",
    "1. Randomly picking a valid action\n",
    "2. Using the current Q-Table to find the best action.\n",
    "\n",
    "Here we will define a new value $\\epsilon$ that will tell us the probabillity of selecting a random action. This value will start off very high and slowly decrease as the agent learns more about the enviornment.\n",
    "\n",
    "```\n",
    "epsilon = 0.9  # Start with a 90% chance of picking a random action\n",
    "\n",
    "# Code to pick action\n",
    "if np.random.uniform(0, 1) < epsilon:  # We will check if a randomly selected value is less than epsilon.\n",
    "    action = env.action_space.sample()  # Take random action\n",
    "else:\n",
    "    action = np.argmax(Q[STATES, :])  # Use Q table to pick best action based on current values\n",
    "```"
   ]
  },
  {
   "cell_type": "markdown",
   "id": "fatal-runner",
   "metadata": {},
   "source": [
    "### Updating Q Values\n",
    "\n",
    "`Q[state, action] = Q[state, action] + LEARNING_RATE * (reward + GAMMA * np.max(Q[new_state, :]) - Q[state, action])`"
   ]
  },
  {
   "cell_type": "markdown",
   "id": "knowing-cigarette",
   "metadata": {},
   "source": [
    "### Combine these togther to create our Q-Learning Algorithm"
   ]
  },
  {
   "cell_type": "code",
   "execution_count": 9,
   "id": "average-shock",
   "metadata": {},
   "outputs": [],
   "source": [
    "import gym\n",
    "import numpy as np\n",
    "import time\n",
    "import matplotlib.pyplot as plt\n",
    "\n",
    "env = gym.make('FrozenLake-v0')\n",
    "STATES = env.observation_space.n\n",
    "ACTIONS = env.action_space.n\n",
    "\n",
    "Q = np.zeros((STATES, ACTIONS))\n",
    "\n",
    "EPISODES = 10000 # How many times to run the enviornment from the beginning\n",
    "MAX_STEPS = 200  # Max number of steps allowed for each run of enviornment\n",
    "LEARNING_RATE = 0.80  # Learning rate\n",
    "GAMMA = 0.96\n",
    "EPSILON = 0.9"
   ]
  },
  {
   "cell_type": "code",
   "execution_count": 10,
   "id": "constitutional-hospital",
   "metadata": {},
   "outputs": [
    {
     "name": "stdout",
     "output_type": "stream",
     "text": [
      "[[1.46067631e-01 1.64388185e-02 1.65532527e-02 1.61095868e-02]\n",
      " [4.11611607e-03 4.90197065e-03 6.51381115e-03 1.52122520e-01]\n",
      " [3.85464587e-03 3.07265883e-03 4.46418417e-03 1.88921470e-01]\n",
      " [4.25644332e-03 5.33202218e-03 3.50520269e-03 1.22954551e-01]\n",
      " [1.59770068e-01 1.54450344e-02 1.41698856e-02 9.60969234e-03]\n",
      " [0.00000000e+00 0.00000000e+00 0.00000000e+00 0.00000000e+00]\n",
      " [2.04763038e-01 9.14138395e-06 5.26206030e-06 5.19298725e-06]\n",
      " [0.00000000e+00 0.00000000e+00 0.00000000e+00 0.00000000e+00]\n",
      " [3.99727582e-03 3.72307148e-03 1.05998704e-02 2.40756938e-01]\n",
      " [3.67472390e-03 4.00072600e-01 5.39536251e-03 3.98295876e-03]\n",
      " [4.96272681e-01 1.82027331e-03 1.28104085e-03 7.65834158e-04]\n",
      " [0.00000000e+00 0.00000000e+00 0.00000000e+00 0.00000000e+00]\n",
      " [0.00000000e+00 0.00000000e+00 0.00000000e+00 0.00000000e+00]\n",
      " [3.27267566e-02 5.47873363e-02 6.24692649e-01 7.27480839e-02]\n",
      " [1.39180072e-01 9.41964825e-01 1.76808472e-01 1.63851840e-01]\n",
      " [0.00000000e+00 0.00000000e+00 0.00000000e+00 0.00000000e+00]]\n",
      "Average reward: 0.679:\n"
     ]
    }
   ],
   "source": [
    "rewards = []\n",
    "for episode in range(EPISODES):\n",
    "  state = env.reset()\n",
    "  for _ in range(MAX_STEPS):\n",
    "    if np.random.uniform(0, 1) < EPSILON:\n",
    "      action = env.action_space.sample()  \n",
    "    else:\n",
    "      action = np.argmax(Q[state, :])\n",
    "\n",
    "    next_state, reward, done, _ = env.step(action) # next_state, reward, done, info\n",
    "    Q[state, action] = Q[state, action] + LEARNING_RATE * (reward + GAMMA * np.max(Q[next_state, :]) - Q[state, action])\n",
    "    state = next_state\n",
    "\n",
    "    if done: \n",
    "      rewards.append(reward)\n",
    "      EPSILON -= 0.001\n",
    "      break  # Reached goal\n",
    "\n",
    "print(Q)\n",
    "print(f\"Average reward: {sum(rewards)/len(rewards)}:\")"
   ]
  },
  {
   "cell_type": "code",
   "execution_count": 11,
   "id": "upset-treatment",
   "metadata": {},
   "outputs": [
    {
     "data": {
      "image/png": "[encoded data removed]",
      "text/plain": [
       "<Figure size 432x288 with 1 Axes>"
      ]
     },
     "metadata": {
      "needs_background": "light"
     },
     "output_type": "display_data"
    }
   ],
   "source": [
    "def get_average(values):\n",
    "  return sum(values)/len(values)\n",
    "\n",
    "avg_rewards = []\n",
    "for i in range(0, len(rewards), 1000):\n",
    "  avg_rewards.append(get_average(rewards[i:i+1000])) \n",
    "\n",
    "plt.plot(avg_rewards)\n",
    "plt.ylabel('average reward')\n",
    "plt.xlabel('episodes (1000\\'s)')\n",
    "plt.show()"
   ]
  }
 ],
 "metadata": {
  "kernelspec": {
   "display_name": "Python 3",
   "language": "python",
   "name": "python3"
  },
  "language_info": {
   "codemirror_mode": {
    "name": "ipython",
    "version": 3
   },
   "file_extension": ".py",
   "mimetype": "text/x-python",
   "name": "python",
   "nbconvert_exporter": "python",
   "pygments_lexer": "ipython3",
   "version": "3.8.5"
  }
 },
 "nbformat": 4,
 "nbformat_minor": 5
}
