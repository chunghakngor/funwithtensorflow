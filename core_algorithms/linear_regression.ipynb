{
 "cells": [
  {
   "cell_type": "code",
   "execution_count": 21,
   "id": "wanted-flexibility",
   "metadata": {
    "scrolled": false
   },
   "outputs": [
    {
     "name": "stdout",
     "output_type": "stream",
     "text": [
      "Tensorflow: v2.4.1\n"
     ]
    }
   ],
   "source": [
    "import tensorflow as tf\n",
    "print(\"Tensorflow: v\" + tf.__version__)"
   ]
  },
  {
   "cell_type": "markdown",
   "id": "arabic-purple",
   "metadata": {},
   "source": [
    "## Linear Regression\n",
    "- Used to predict numeric values \n",
    "- eg. predict y values from the x values\n",
    "- Use line of best fit to predict future values\n",
    "- However, this works in more than 2 dimension. If you have 3 dimension graph, you can use 2 dimension to get the last one"
   ]
  },
  {
   "cell_type": "code",
   "execution_count": 23,
   "id": "every-holder",
   "metadata": {
    "scrolled": false
   },
   "outputs": [],
   "source": [
    "from __future__ import absolute_import, division, print_function, unicode_literals\n",
    "import tensorflow as tf\n",
    "import tensorflow.compat.v2.feature_column as fc\n",
    "\n",
    "import numpy as np\n",
    "import pandas as pd\n",
    "import matplotlib.pyplot as plt\n",
    "from IPython.display import clear_output\n",
    "from six.moves import urllib"
   ]
  },
  {
   "cell_type": "markdown",
   "id": "dedicated-tsunami",
   "metadata": {},
   "source": [
    "- using titanic dataset from tensorflow\n",
    "- load into a panda dataframe to view the data"
   ]
  },
  {
   "cell_type": "code",
   "execution_count": 24,
   "id": "impressive-toilet",
   "metadata": {
    "scrolled": false
   },
   "outputs": [],
   "source": [
    "dftrain = pd.read_csv(\"https://storage.googleapis.com/tf-datasets/titanic/train.csv\")\n",
    "dfeval = pd.read_csv(\"https://storage.googleapis.com/tf-datasets/titanic/eval.csv\")\n",
    "\n",
    "y_train = dftrain.pop(\"survived\")\n",
    "y_eval = dfeval.pop(\"survived\")\n",
    "\n",
    "# print at specific index\n",
    "# print(dftrain.loc[0], y_train.loc[0])"
   ]
  },
  {
   "cell_type": "markdown",
   "id": "frozen-detective",
   "metadata": {},
   "source": [
    "`.describe()` to describe the dataset and provide some statistical analysis"
   ]
  },
  {
   "cell_type": "code",
   "execution_count": null,
   "id": "champion-block",
   "metadata": {
    "scrolled": false
   },
   "outputs": [],
   "source": [
    "dftrain.describe()"
   ]
  },
  {
   "cell_type": "code",
   "execution_count": null,
   "id": "responsible-light",
   "metadata": {
    "scrolled": false
   },
   "outputs": [],
   "source": [
    "dftrain.age.hist(bins=20)"
   ]
  },
  {
   "cell_type": "code",
   "execution_count": null,
   "id": "hidden-mobile",
   "metadata": {
    "scrolled": false
   },
   "outputs": [],
   "source": [
    "dftrain.sex.value_counts().plot(kind=\"barh\")"
   ]
  },
  {
   "cell_type": "code",
   "execution_count": null,
   "id": "falling-olympus",
   "metadata": {
    "scrolled": false
   },
   "outputs": [],
   "source": [
    "dftrain[\"class\"].value_counts().plot(kind=\"barh\")"
   ]
  },
  {
   "cell_type": "code",
   "execution_count": null,
   "id": "found-translator",
   "metadata": {
    "scrolled": false
   },
   "outputs": [],
   "source": [
    "pd.concat([dftrain, y_train], axis=1).groupby(\"sex\").survived.mean().plot(kind=\"barh\").set_xlabel(\"% survive\")"
   ]
  },
  {
   "cell_type": "markdown",
   "id": "driving-compression",
   "metadata": {},
   "source": [
    "### Categoric Data vs Numerical Data\n",
    "- Categoric data should have a certain category that they fall under \n",
    "- eg. gender = male or female or deck = first, second or third\n",
    "- For categoric data, we need to map it to different numeric values eg. male = 0 and female = 1\n",
    "\n",
    "\n",
    "- Numerical data eg. age or fare"
   ]
  },
  {
   "cell_type": "code",
   "execution_count": 25,
   "id": "biblical-samba",
   "metadata": {
    "scrolled": false
   },
   "outputs": [],
   "source": [
    "C_COL = [\"sex\", \"n_siblings_spouses\", \"parch\",\"class\", \"deck\", \"embark_town\", \"alone\"]\n",
    "N_COL = [\"age\", \"fare\"]"
   ]
  },
  {
   "cell_type": "code",
   "execution_count": 30,
   "id": "pressed-jacket",
   "metadata": {
    "scrolled": false
   },
   "outputs": [],
   "source": [
    "fc = []\n",
    "for fn in C_COL:\n",
    "    vocab = dftrain[fn].unique()\n",
    "    fc.append(tf.feature_column.categorical_column_with_vocabulary_list(fn, vocab))\n",
    "\n",
    "for fn in N_COL:\n",
    "    fc.append(tf.feature_column.numeric_column(fn, dtype=tf.float32))"
   ]
  },
  {
   "cell_type": "markdown",
   "id": "indian-language",
   "metadata": {},
   "source": [
    "### Training the Model\n",
    "- Feed the model information from the dataset\n",
    "- With large models that have big dataset, need to load in batches\n",
    "- **epoch** = how many times the model see the same data\n",
    "- which feed the data again but in a different order. but this may lead to **overfitting**\n",
    "- to prevent overfitting, start with a low epoch and increament it\n",
    "\n",
    "\n",
    "- **input function** - define how the data is broken into epoch to feed into the data\n",
    "- will encode into `tf.data.Dataset` object"
   ]
  },
  {
   "cell_type": "code",
   "execution_count": 31,
   "id": "atlantic-employee",
   "metadata": {
    "scrolled": false
   },
   "outputs": [],
   "source": [
    "def make_input_fn(data_df, label_df, num_epochs=10, shuffle=True, batch_size=32):\n",
    "    def input_function():\n",
    "        ds = tf.data.Dataset.from_tensor_slices((dict(data_df), label_df))\n",
    "        if shuffle:\n",
    "            ds = ds.shuffle(1000)\n",
    "        ds = ds.batch(batch_size).repeat(num_epochs)\n",
    "        return ds\n",
    "    return input_function\n",
    "\n",
    "train_input_fn = make_input_fn(dftrain, y_train)\n",
    "eval_input_fn = make_input_fn(dfeval, y_eval, num_epochs=1, shuffle=False)"
   ]
  },
  {
   "cell_type": "markdown",
   "id": "decreased-lebanon",
   "metadata": {},
   "source": [
    "### Creating the Model"
   ]
  },
  {
   "cell_type": "code",
   "execution_count": 32,
   "id": "tested-mathematics",
   "metadata": {
    "scrolled": false
   },
   "outputs": [
    {
     "name": "stdout",
     "output_type": "stream",
     "text": [
      "{'accuracy': 0.7462121, 'accuracy_baseline': 0.625, 'auc': 0.8340985, 'auc_precision_recall': 0.77782816, 'average_loss': 0.47410694, 'label/mean': 0.375, 'loss': 0.46557003, 'precision': 0.65686274, 'prediction/mean': 0.37962875, 'recall': 0.67676765, 'global_step': 200}\n"
     ]
    }
   ],
   "source": [
    "linear_est = tf.estimator.LinearClassifier(feature_columns=fc)\n",
    "linear_est.train(train_input_fn)\n",
    "result = linear_est.evaluate(eval_input_fn)\n",
    "clear_output()\n",
    "print(result)  # evaluation results"
   ]
  },
  {
   "cell_type": "markdown",
   "id": "blank-preliminary",
   "metadata": {},
   "source": [
    "### Using the Model to make Predictions"
   ]
  },
  {
   "cell_type": "code",
   "execution_count": 33,
   "id": "periodic-court",
   "metadata": {
    "scrolled": false
   },
   "outputs": [
    {
     "name": "stdout",
     "output_type": "stream",
     "text": [
      "{'accuracy': 0.7462121, 'accuracy_baseline': 0.625, 'auc': 0.8340985, 'auc_precision_recall': 0.77782816, 'average_loss': 0.47410694, 'label/mean': 0.375, 'loss': 0.46557003, 'precision': 0.65686274, 'prediction/mean': 0.37962875, 'recall': 0.67676765, 'global_step': 200}\n"
     ]
    }
   ],
   "source": [
    "results = list(linear_est.predict(eval_input_fn))\n",
    "clear_output()\n",
    "print(result)  # actual prediction results"
   ]
  }
 ],
 "metadata": {
  "kernelspec": {
   "display_name": "Python 3",
   "language": "python",
   "name": "python3"
  },
  "language_info": {
   "codemirror_mode": {
    "name": "ipython",
    "version": 3
   },
   "file_extension": ".py",
   "mimetype": "text/x-python",
   "name": "python",
   "nbconvert_exporter": "python",
   "pygments_lexer": "ipython3",
   "version": "3.8.5"
  }
 },
 "nbformat": 4,
 "nbformat_minor": 5
}
