{
 "cells": [
  {
   "cell_type": "code",
   "execution_count": 1,
   "id": "herbal-generation",
   "metadata": {
    "scrolled": false
   },
   "outputs": [
    {
     "name": "stdout",
     "output_type": "stream",
     "text": [
      "Tensorflow: v2.4.1\n"
     ]
    }
   ],
   "source": [
    "import tensorflow as tf\n",
    "print(\"Tensorflow: v\" + tf.__version__)"
   ]
  },
  {
   "cell_type": "markdown",
   "id": "authorized-assumption",
   "metadata": {},
   "source": [
    "## Classification\n",
    "\n",
    "- Used to seperate data points into classes of different labels"
   ]
  },
  {
   "cell_type": "code",
   "execution_count": 2,
   "id": "modular-bundle",
   "metadata": {
    "scrolled": false
   },
   "outputs": [],
   "source": [
    "from __future__ import absolute_import, division, print_function, unicode_literals\n",
    "from IPython.display import clear_output\n",
    "\n",
    "import tensorflow as tf\n",
    "import pandas as pd"
   ]
  },
  {
   "cell_type": "markdown",
   "id": "pretty-district",
   "metadata": {},
   "source": [
    "### Loading the dataset"
   ]
  },
  {
   "cell_type": "code",
   "execution_count": 3,
   "id": "endangered-liability",
   "metadata": {
    "scrolled": false
   },
   "outputs": [],
   "source": [
    "train_path = tf.keras.utils.get_file(\"iris_training.csv\", \"https://storage.googleapis.com/download.tensorflow.org/data/iris_training.csv\")\n",
    "test_path = tf.keras.utils.get_file(\"iris_test.csv\", \"https://storage.googleapis.com/download.tensorflow.org/data/iris_test.csv\")"
   ]
  },
  {
   "cell_type": "code",
   "execution_count": 4,
   "id": "lyric-broadcasting",
   "metadata": {
    "scrolled": false
   },
   "outputs": [],
   "source": [
    "# Using Iris Flower dataset\n",
    "CSV_COL_NAME = [\"SepalLength\", \"SepdalWidth\", \"PetalLength\", \"PetalWidth\", \"Species\"]\n",
    "SPECIES = [\"Setosa\", \"Versicolor\", \"Virginia\"]"
   ]
  },
  {
   "cell_type": "code",
   "execution_count": 5,
   "id": "daily-weather",
   "metadata": {
    "scrolled": false
   },
   "outputs": [
    {
     "data": {
      "text/html": [
       "<div>\n",
       "<style scoped>\n",
       "    .dataframe tbody tr th:only-of-type {\n",
       "        vertical-align: middle;\n",
       "    }\n",
       "\n",
       "    .dataframe tbody tr th {\n",
       "        vertical-align: top;\n",
       "    }\n",
       "\n",
       "    .dataframe thead th {\n",
       "        text-align: right;\n",
       "    }\n",
       "</style>\n",
       "<table border=\"1\" class=\"dataframe\">\n",
       "  <thead>\n",
       "    <tr style=\"text-align: right;\">\n",
       "      <th></th>\n",
       "      <th>SepalLength</th>\n",
       "      <th>SepdalWidth</th>\n",
       "      <th>PetalLength</th>\n",
       "      <th>PetalWidth</th>\n",
       "    </tr>\n",
       "  </thead>\n",
       "  <tbody>\n",
       "    <tr>\n",
       "      <th>0</th>\n",
       "      <td>6.4</td>\n",
       "      <td>2.8</td>\n",
       "      <td>5.6</td>\n",
       "      <td>2.2</td>\n",
       "    </tr>\n",
       "    <tr>\n",
       "      <th>1</th>\n",
       "      <td>5.0</td>\n",
       "      <td>2.3</td>\n",
       "      <td>3.3</td>\n",
       "      <td>1.0</td>\n",
       "    </tr>\n",
       "    <tr>\n",
       "      <th>2</th>\n",
       "      <td>4.9</td>\n",
       "      <td>2.5</td>\n",
       "      <td>4.5</td>\n",
       "      <td>1.7</td>\n",
       "    </tr>\n",
       "    <tr>\n",
       "      <th>3</th>\n",
       "      <td>4.9</td>\n",
       "      <td>3.1</td>\n",
       "      <td>1.5</td>\n",
       "      <td>0.1</td>\n",
       "    </tr>\n",
       "    <tr>\n",
       "      <th>4</th>\n",
       "      <td>5.7</td>\n",
       "      <td>3.8</td>\n",
       "      <td>1.7</td>\n",
       "      <td>0.3</td>\n",
       "    </tr>\n",
       "  </tbody>\n",
       "</table>\n",
       "</div>"
      ],
      "text/plain": [
       "   SepalLength  SepdalWidth  PetalLength  PetalWidth\n",
       "0          6.4          2.8          5.6         2.2\n",
       "1          5.0          2.3          3.3         1.0\n",
       "2          4.9          2.5          4.5         1.7\n",
       "3          4.9          3.1          1.5         0.1\n",
       "4          5.7          3.8          1.7         0.3"
      ]
     },
     "execution_count": 5,
     "metadata": {},
     "output_type": "execute_result"
    }
   ],
   "source": [
    "train = pd.read_csv(train_path, names=CSV_COL_NAME, header=0)\n",
    "test = pd.read_csv(test_path, names=CSV_COL_NAME, header=0)\n",
    "\n",
    "train_y = train.pop(\"Species\")\n",
    "test_y = test.pop(\"Species\")\n",
    "\n",
    "train.head()"
   ]
  },
  {
   "cell_type": "code",
   "execution_count": 6,
   "id": "computational-bennett",
   "metadata": {
    "scrolled": true
   },
   "outputs": [
    {
     "data": {
      "text/plain": [
       "(120, 4)"
      ]
     },
     "execution_count": 6,
     "metadata": {},
     "output_type": "execute_result"
    }
   ],
   "source": [
    "train.shape"
   ]
  },
  {
   "cell_type": "markdown",
   "id": "armed-pittsburgh",
   "metadata": {},
   "source": [
    "### Input Function and Feature Column"
   ]
  },
  {
   "cell_type": "code",
   "execution_count": 7,
   "id": "metric-fitting",
   "metadata": {
    "scrolled": false
   },
   "outputs": [
    {
     "name": "stdout",
     "output_type": "stream",
     "text": [
      "[NumericColumn(key='SepalLength', shape=(1,), default_value=None, dtype=tf.float32, normalizer_fn=None), NumericColumn(key='SepdalWidth', shape=(1,), default_value=None, dtype=tf.float32, normalizer_fn=None), NumericColumn(key='PetalLength', shape=(1,), default_value=None, dtype=tf.float32, normalizer_fn=None), NumericColumn(key='PetalWidth', shape=(1,), default_value=None, dtype=tf.float32, normalizer_fn=None)]\n"
     ]
    }
   ],
   "source": [
    "# input function\n",
    "def input_fn(feat, lab, train=True, bs=256): #features, labels, training, batch_size\n",
    "    ds = tf.data.Dataset.from_tensor_slices((dict(feat), lab))\n",
    "    if train:\n",
    "        ds = ds.shuffle(1000).repeat()\n",
    "    return ds.batch(bs)\n",
    "\n",
    "# feature column\n",
    "fc = []\n",
    "for k in train.keys():\n",
    "    fc.append(tf.feature_column.numeric_column(key=k))\n",
    "print(fc)"
   ]
  },
  {
   "cell_type": "markdown",
   "id": "turkish-psychiatry",
   "metadata": {},
   "source": [
    "### Building the Model\n",
    "- Using pre-built classifier that are built-in tensorflow\n",
    "- ***DNNClassifier*** (Deep Neural Network)\n",
    "- ***LinearClassifier***"
   ]
  },
  {
   "cell_type": "code",
   "execution_count": 10,
   "id": "competitive-compression",
   "metadata": {
    "scrolled": true
   },
   "outputs": [
    {
     "name": "stdout",
     "output_type": "stream",
     "text": [
      "{'accuracy': 0.93333334, 'average_loss': 0.30418208, 'loss': 0.30418208, 'global_step': 5000}\n"
     ]
    }
   ],
   "source": [
    "classifier = tf.estimator.DNNClassifier(feature_columns=fc, hidden_units=[30,10], n_classes=3) \n",
    "classifier.train(input_fn=lambda: input_fn(train, train_y, train=True), steps=5000)\n",
    "\n",
    "results = classifier.evaluate(input_fn=lambda: input_fn(test, test_y, train=False))\n",
    "clear_output()\n",
    "print(results)"
   ]
  },
  {
   "cell_type": "markdown",
   "id": "transparent-aquarium",
   "metadata": {},
   "source": [
    "### Using the model to make predictions"
   ]
  },
  {
   "cell_type": "code",
   "execution_count": 11,
   "id": "julian-greenhouse",
   "metadata": {
    "scrolled": true
   },
   "outputs": [
    {
     "name": "stdout",
     "output_type": "stream",
     "text": [
      "Versicolor   p=0.6548\n",
      "Virginia     p=0.6719\n",
      "Setosa       p=0.8777\n",
      "Versicolor   p=0.5835\n",
      "Versicolor   p=0.6133\n",
      "Versicolor   p=0.7193\n",
      "Setosa       p=0.9688\n",
      "Virginia     p=0.5862\n",
      "Versicolor   p=0.6363\n",
      "Virginia     p=0.8338\n",
      "Virginia     p=0.8066\n",
      "Setosa       p=0.9289\n",
      "Virginia     p=0.8290\n",
      "Versicolor   p=0.5924\n",
      "Versicolor   p=0.7350\n",
      "Setosa       p=0.9459\n",
      "Versicolor   p=0.7030\n",
      "Setosa       p=0.8820\n",
      "Setosa       p=0.9375\n",
      "Virginia     p=0.8469\n",
      "Setosa       p=0.9288\n",
      "Virginia     p=0.5198\n",
      "Virginia     p=0.8330\n",
      "Virginia     p=0.5294\n",
      "Versicolor   p=0.7231\n",
      "Versicolor   p=0.5897\n",
      "Setosa       p=0.9642\n",
      "Versicolor   p=0.6986\n",
      "Virginia     p=0.8715\n",
      "Versicolor   p=0.7494\n"
     ]
    }
   ],
   "source": [
    "results = list(classifier.predict(input_fn=lambda: input_fn(test, test_y, train=False)))\n",
    "clear_output()\n",
    "\n",
    "for n in results:\n",
    "    pred = n[\"class_ids\"][0]\n",
    "    prob = n[\"probabilities\"]\n",
    "    print(f\"{SPECIES[pred]:12} p={prob[pred]:.4f}\")"
   ]
  }
 ],
 "metadata": {
  "kernelspec": {
   "display_name": "Python 3",
   "language": "python",
   "name": "python3"
  },
  "language_info": {
   "codemirror_mode": {
    "name": "ipython",
    "version": 3
   },
   "file_extension": ".py",
   "mimetype": "text/x-python",
   "name": "python",
   "nbconvert_exporter": "python",
   "pygments_lexer": "ipython3",
   "version": "3.8.5"
  }
 },
 "nbformat": 4,
 "nbformat_minor": 5
}
