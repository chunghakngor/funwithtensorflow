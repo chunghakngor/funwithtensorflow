{
 "cells": [
  {
   "cell_type": "code",
   "execution_count": 32,
   "id": "major-trance",
   "metadata": {
    "scrolled": true
   },
   "outputs": [
    {
     "name": "stdout",
     "output_type": "stream",
     "text": [
      "Tensorflow v2.5.0-dev20210213\n"
     ]
    }
   ],
   "source": [
    "import tensorflow as tf\n",
    "print(f\"Tensorflow v{tf.__version__}\")"
   ]
  },
  {
   "cell_type": "markdown",
   "id": "pretty-mining",
   "metadata": {},
   "source": [
    "## Hidden Markov Models\n",
    "\n",
    "- Based on a finite set of states - each of which is associated with a ***probability distribution***\n",
    "- Transition among the state are governed by a set of probabilities called ***transition probability***\n",
    "\n",
    "A hidden markov models wokr with a probabilities to predict future events/states"
   ]
  },
  {
   "cell_type": "markdown",
   "id": "typical-reset",
   "metadata": {},
   "source": [
    "### Data\n",
    "\n",
    "- ***State:*** In each markov models, we have a finite set of states. \n",
    "    - These states are hidden within the models, which means we do not directly observe them\n",
    "    - We need to define how many state we have but we do not need to know them\n",
    "    - eg. Hot or Cold or Windy etc\n",
    "    - eg. Red or Blue or Green\n",
    "- ***Observation:*** Each state has a particular outcome or observation associated with it based on a probability distribution\n",
    "    - eg. During hot day that John is happy, but there is a 80% that he is happy and 20% that he is sad\n",
    "- **Transitions:** Each state will have a probability defining the likelyhood of transitioning to a different state.\n",
    "    - eg. Today is a hot day, there is a 70% chance that tomorrow will also be a hot day"
   ]
  },
  {
   "cell_type": "code",
   "execution_count": 33,
   "id": "round-calculation",
   "metadata": {
    "scrolled": false
   },
   "outputs": [],
   "source": [
    "import tensorflow_probability as tfp"
   ]
  },
  {
   "cell_type": "markdown",
   "id": "center-september",
   "metadata": {},
   "source": [
    "### Weather Model\n",
    "\n",
    "We will model a simple weather system and try to predict the temperature on each day given the following information.\n",
    "\n",
    "1. Cold days are encoded by a 0 and hot days are encoded by a 1.\n",
    "2. The first day in our sequence has an 80% chance of being cold.\n",
    "3. A cold day has a 30% chance of being followed by a hot day.\n",
    "4. A hot day has a 20% chance of being followed by a cold day.\n",
    "5. On each day the temperature is normally distributed with mean and standard deviation 0 and 5 on a cold day and mean and standard deviation 15 and 10 on a hot day.\n"
   ]
  },
  {
   "cell_type": "code",
   "execution_count": 34,
   "id": "traditional-ownership",
   "metadata": {},
   "outputs": [],
   "source": [
    "tfd = tfp.distributions \n",
    "initial_distribution = tfd.Categorical(probs=[0.8, 0.2])  # Refer to point 2 above\n",
    "transition_distribution = tfd.Categorical(probs=[[0.7, 0.3], \n",
    "                                                 [0.2, 0.8]])  # refer to points 3 and 4 above\n",
    "observation_distribution = tfd.Normal(loc=[0., 15.], scale=[5., 10.])  # refer to point 5 above"
   ]
  },
  {
   "cell_type": "code",
   "execution_count": 35,
   "id": "cloudy-anchor",
   "metadata": {},
   "outputs": [],
   "source": [
    "model = tfd.HiddenMarkovModel(\n",
    "    initial_distribution=initial_distribution,\n",
    "    transition_distribution=transition_distribution,\n",
    "    observation_distribution=observation_distribution,\n",
    "    num_steps=7)"
   ]
  },
  {
   "cell_type": "code",
   "execution_count": 36,
   "id": "worth-orchestra",
   "metadata": {},
   "outputs": [
    {
     "name": "stdout",
     "output_type": "stream",
     "text": [
      "[3.        6.        7.4999995 8.249999  8.625001  8.812501  8.90625  ]\n"
     ]
    }
   ],
   "source": [
    "mean = model.mean()\n",
    "with tf.compat.v1.Session() as sess:  # replaces tf.Session()\n",
    "  print(mean.numpy())"
   ]
  }
 ],
 "metadata": {
  "kernelspec": {
   "display_name": "Python 3",
   "language": "python",
   "name": "python3"
  },
  "language_info": {
   "codemirror_mode": {
    "name": "ipython",
    "version": 3
   },
   "file_extension": ".py",
   "mimetype": "text/x-python",
   "name": "python",
   "nbconvert_exporter": "python",
   "pygments_lexer": "ipython3",
   "version": "3.8.5"
  }
 },
 "nbformat": 4,
 "nbformat_minor": 5
}
