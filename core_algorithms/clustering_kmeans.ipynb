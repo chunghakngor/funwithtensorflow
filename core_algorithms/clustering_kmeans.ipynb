{
 "cells": [
  {
   "cell_type": "code",
   "execution_count": 12,
   "id": "running-intent",
   "metadata": {},
   "outputs": [
    {
     "name": "stdout",
     "output_type": "stream",
     "text": [
      "Tensorflow v2.4.1\n"
     ]
    }
   ],
   "source": [
    "import tensorflow as tf\n",
    "print(f\"Tensorflow v{ tf.__version__}\")"
   ]
  },
  {
   "cell_type": "markdown",
   "id": "surprising-gauge",
   "metadata": {},
   "source": [
    "## Clustering\n",
    "\n",
    "- Allows the grouping of data points.\n",
    "- Data points that are in the same group should have similar properities/ features. While data points in different groups should have dissimilar properties/features\n",
    "\n",
    "### Basic Algorithm for K-Means\n",
    "1. Randomly pick K points to place K centroids\n",
    "2. Assign all of the data points to the centroids by distance (eg. Euclidean distance or Manhattan distancedistance). \n",
    "    - The closest centroid to a point is the one it is asigned to\n",
    "3. Average all of the points belonging to each centroid to find the middle of those clusters. Place the corresponding centroids into that position\n",
    "4. Reassing every point once again to the closest centroid\n",
    "5. Repeat 3 & 4 until no point changes which centroid it belongs to"
   ]
  },
  {
   "cell_type": "code",
   "execution_count": null,
   "id": "affected-writer",
   "metadata": {},
   "outputs": [],
   "source": []
  }
 ],
 "metadata": {
  "kernelspec": {
   "display_name": "Python 3",
   "language": "python",
   "name": "python3"
  },
  "language_info": {
   "codemirror_mode": {
    "name": "ipython",
    "version": 3
   },
   "file_extension": ".py",
   "mimetype": "text/x-python",
   "name": "python",
   "nbconvert_exporter": "python",
   "pygments_lexer": "ipython3",
   "version": "3.8.5"
  }
 },
 "nbformat": 4,
 "nbformat_minor": 5
}
