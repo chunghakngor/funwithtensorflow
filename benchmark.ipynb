{
 "cells": [
  {
   "cell_type": "code",
   "execution_count": 1,
   "id": "departmental-coffee",
   "metadata": {},
   "outputs": [
    {
     "name": "stdout",
     "output_type": "stream",
     "text": [
      "tensorflow v2.5.0-dev20210213\n"
     ]
    }
   ],
   "source": [
    "import tensorflow as tf\n",
    "print(f'tensorflow v{tf.__version__}')"
   ]
  },
  {
   "cell_type": "code",
   "execution_count": 4,
   "id": "numerous-fairy",
   "metadata": {},
   "outputs": [
    {
     "name": "stdout",
     "output_type": "stream",
     "text": [
      "Collecting ai-benchmark\n",
      "  Downloading ai_benchmark-0.1.2-py3-none-any.whl (21.5 MB)\n",
      "\u001b[K     |████████████████████████████████| 21.5 MB 16.9 MB/s eta 0:00:01\n",
      "\u001b[?25hRequirement already satisfied: pillow in /home/chung/.local/lib/python3.8/site-packages (from ai-benchmark) (8.1.0)\n",
      "Requirement already satisfied: setuptools in /usr/lib/python3/dist-packages (from ai-benchmark) (45.2.0)\n",
      "Requirement already satisfied: numpy in /home/chung/.local/lib/python3.8/site-packages (from ai-benchmark) (1.19.5)\n",
      "Requirement already satisfied: requests in /usr/lib/python3/dist-packages (from ai-benchmark) (2.22.0)\n",
      "Collecting py-cpuinfo\n",
      "  Downloading py-cpuinfo-7.0.0.tar.gz (95 kB)\n",
      "\u001b[K     |████████████████████████████████| 95 kB 3.3 MB/s s eta 0:00:01\n",
      "\u001b[?25hCollecting psutil\n",
      "  Downloading psutil-5.8.0-cp38-cp38-manylinux2010_x86_64.whl (296 kB)\n",
      "\u001b[K     |████████████████████████████████| 296 kB 61.6 MB/s eta 0:00:01\n",
      "\u001b[?25hBuilding wheels for collected packages: py-cpuinfo\n",
      "  Building wheel for py-cpuinfo (setup.py) ... \u001b[?25ldone\n",
      "\u001b[?25h  Created wheel for py-cpuinfo: filename=py_cpuinfo-7.0.0-py3-none-any.whl size=20070 sha256=890ce4e0d8f1a2591fbe0bce23dbf599725e4bb0159291f9d79470d4287a519b\n",
      "  Stored in directory: /home/chung/.cache/pip/wheels/b4/99/9f/8eb77fdf759c1380719071722f2c37dd0fa1f6aa477c51cb6c\n",
      "Successfully built py-cpuinfo\n",
      "Installing collected packages: py-cpuinfo, psutil, ai-benchmark\n",
      "\u001b[33m  WARNING: The script cpuinfo is installed in '/home/chung/.local/bin' which is not on PATH.\n",
      "  Consider adding this directory to PATH or, if you prefer to suppress this warning, use --no-warn-script-location.\u001b[0m\n",
      "Successfully installed ai-benchmark-0.1.2 psutil-5.8.0 py-cpuinfo-7.0.0\n"
     ]
    }
   ],
   "source": [
    "!pip3 install ai-benchmark"
   ]
  },
  {
   "cell_type": "code",
   "execution_count": null,
   "id": "korean-checkout",
   "metadata": {},
   "outputs": [
    {
     "name": "stdout",
     "output_type": "stream",
     "text": [
      "\n",
      ">>   AI-Benchmark-v.0.1.2   \n",
      ">>   Let the AI Games begin..\n",
      "\n",
      "*  TF Version: 2.5.0-dev20210213\n",
      "*  Platform: Linux-5.4.0-65-generic-x86_64-with-glibc2.29\n",
      "*  CPU: N/A\n",
      "*  CPU RAM: 8 GB\n",
      "*  GPU/0: GeForce GTX 1050 Ti\n",
      "*  GPU RAM: 3.3 GB\n",
      "*  CUDA Version: 11.2\n",
      "*  CUDA Build: V11.2.142\n",
      "\n",
      "The benchmark is running...\n",
      "The tests might take up to 20 minutes\n",
      "Please don't interrupt the script\n",
      "\n",
      "1/19. MobileNet-V2\n",
      "\n",
      "1.1 - inference | batch=50, size=224x224: 141.8 ± 0.5 ms\n",
      "1.2 - training  | batch=50, size=224x224: 674 ± 1 ms\n",
      "\n",
      "2/19. Inception-V3\n",
      "\n",
      "2.1 - inference | batch=20, size=346x346: 207 ± 1 ms\n",
      "2.2 - training  | batch=20, size=346x346: 795 ± 2 ms\n",
      "\n",
      "3/19. Inception-V4\n",
      "\n",
      "3.1 - inference | batch=10, size=346x346: 230.1 ± 0.9 ms\n",
      "3.2 - training  | batch=10, size=346x346: 873 ± 2 ms\n",
      "\n",
      "4/19. Inception-ResNet-V2\n",
      "\n",
      "4.1 - inference | batch=10, size=346x346: 303.7 ± 0.8 ms\n",
      "4.2 - training  | batch=8, size=346x346: 903.9 ± 0.7 ms\n",
      "\n",
      "5/19. ResNet-V2-50\n",
      "\n",
      "5.1 - inference | batch=10, size=346x346: 151 ± 1 ms\n",
      "5.2 - training  | batch=10, size=346x346: 510 ± 1 ms\n",
      "\n",
      "6/19. ResNet-V2-152\n",
      "\n",
      "6.1 - inference | batch=10, size=256x256: 210 ± 1 ms\n",
      "6.2 - training  | batch=10, size=256x256: 712 ± 1 ms\n",
      "\n",
      "7/19. VGG-16\n",
      "\n",
      "7.1 - inference | batch=20, size=224x224: 323 ± 2 ms\n",
      "7.2 - training  | batch=2, size=224x224: 515 ± 2 ms\n",
      "\n",
      "8/19. SRCNN 9-5-5\n",
      "\n",
      "8.1 - inference | batch=10, size=512x512: 292 ± 1 ms\n",
      "8.2 - inference | batch=1, size=1536x1536: 440 ± 6 ms\n",
      "8.3 - training  | batch=10, size=512x512: 1000 ± 7 ms\n",
      "\n",
      "9/19. VGG-19 Super-Res\n",
      "\n",
      "9.1 - inference | batch=10, size=256x256: 308 ± 2 ms\n",
      "9.2 - inference | batch=1, size=1024x1024: 496 ± 4 ms\n",
      "9.3 - training  | batch=10, size=224x224: 1034 ± 11 ms\n",
      "\n",
      "10/19. ResNet-SRGAN\n",
      "\n",
      "10.1 - inference | batch=10, size=512x512: 407 ± 3 ms\n",
      "10.2 - inference | batch=1, size=1536x1536: 359.0 ± 0.9 ms\n",
      "10.3 - training  | batch=5, size=512x512: 623 ± 3 ms\n",
      "\n",
      "11/19. ResNet-DPED\n",
      "\n",
      "11.1 - inference | batch=10, size=256x256: 457 ± 4 ms\n",
      "11.2 - inference | batch=1, size=1024x1024: 764 ± 2 ms\n",
      "11.3 - training  | batch=15, size=128x128: 742.8 ± 0.9 ms\n",
      "\n",
      "12/19. U-Net\n",
      "\n",
      "12.1 - inference | batch=4, size=512x512: 934 ± 3 ms\n",
      "12.2 - inference | batch=1, size=1024x1024: 922 ± 2 ms\n"
     ]
    }
   ],
   "source": [
    "from ai_benchmark import AIBenchmark\n",
    "results = AIBenchmark().run()"
   ]
  }
 ],
 "metadata": {
  "kernelspec": {
   "display_name": "Python 3",
   "language": "python",
   "name": "python3"
  },
  "language_info": {
   "codemirror_mode": {
    "name": "ipython",
    "version": 3
   },
   "file_extension": ".py",
   "mimetype": "text/x-python",
   "name": "python",
   "nbconvert_exporter": "python",
   "pygments_lexer": "ipython3",
   "version": "3.8.5"
  }
 },
 "nbformat": 4,
 "nbformat_minor": 5
}
